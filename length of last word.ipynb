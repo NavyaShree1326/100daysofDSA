{
 "cells": [
  {
   "cell_type": "code",
   "execution_count": null,
   "metadata": {},
   "outputs": [],
   "source": [
    "class Solution:\n",
    "    def lengthOfLastWord(self, s: str) -> int:\n",
    "        length = 0\n",
    "        i = len(s) - 1\n",
    "        while i >= 0 and s[i] == ' ':\n",
    "            i -= 1\n",
    "        while i >= 0 and s[i] != ' ':\n",
    "            length += 1\n",
    "            i -= 1\n",
    "        return length\n",
    "#Time complexity=O(n)\n",
    "#Space complexity=O(1)"
   ]
  }
 ],
 "metadata": {
  "language_info": {
   "name": "python"
  }
 },
 "nbformat": 4,
 "nbformat_minor": 2
}
