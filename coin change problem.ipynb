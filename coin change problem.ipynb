{
 "cells": [
  {
   "cell_type": "code",
   "execution_count": null,
   "metadata": {},
   "outputs": [],
   "source": [
    "def count(coins, n, sum):\n",
    "\n",
    "\tif (sum == 0):\n",
    "\t\treturn 1\n",
    "\n",
    "\tif (sum < 0):\n",
    "\t\treturn 0\n",
    "\n",
    "\tif (n <= 0):\n",
    "\t\treturn 0\n",
    "\n",
    "\n",
    "\treturn count(coins, n - 1, sum) + count(coins, n, sum-coins[n-1])\n",
    "\n",
    "coins = [1, 2, 3]\n",
    "n = len(coins)\n",
    "print(count(coins, n, 5))\n",
    "\n",
    "#Time complexity=O(2^sum)\n",
    "#space complexity=O(sum)\n"
   ]
  }
 ],
 "metadata": {
  "language_info": {
   "name": "python"
  }
 },
 "nbformat": 4,
 "nbformat_minor": 2
}
