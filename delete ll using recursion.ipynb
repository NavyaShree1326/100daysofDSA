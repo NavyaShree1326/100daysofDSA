{
 "cells": [
  {
   "cell_type": "code",
   "execution_count": null,
   "metadata": {},
   "outputs": [],
   "source": [
    "import math\n",
    "class Node: \n",
    "\tdef __init__(self, data): \n",
    "\t\tself.data = data \n",
    "\t\tself.next = None\n",
    "def deleteList(head):\n",
    "\tif (head == None):\n",
    "\t\treturn\n",
    "\tdeleteList(head.next) \n",
    "def push(head_ref, new_data):\n",
    "\tnew_node = Node(new_data)\n",
    "\tnew_node.data = new_data\n",
    "\tnew_node.next = head_ref\n",
    "\thead_ref = new_node\n",
    "\treturn head_ref\n",
    "if __name__=='__main__':\n",
    "\t# Start with the empty list \n",
    "\thead = None\n",
    "\thead = push(head, 1)\n",
    "\thead = push(head, 4)\n",
    "\thead = push(head, 1)\n",
    "\thead = push(head, 12)\n",
    "\thead = push(head, 1)\n",
    "\tprint(\"Deleting linked list\")\n",
    "\tdeleteList(head)\n",
    "\tprint(\"Linked list deleted\")\n",
    "\t\n",
    "#Time complexity=O(N)\n",
    "#SPace coomplexity=O(N)\n"
   ]
  }
 ],
 "metadata": {
  "language_info": {
   "name": "python"
  }
 },
 "nbformat": 4,
 "nbformat_minor": 2
}
