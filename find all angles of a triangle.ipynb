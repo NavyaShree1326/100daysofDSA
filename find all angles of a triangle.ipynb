{
 "cells": [
  {
   "cell_type": "code",
   "execution_count": null,
   "metadata": {},
   "outputs": [],
   "source": [
    "import math \n",
    "def lengthSquare(X, Y): \n",
    "\txDiff = X[0] - Y[0] \n",
    "\tyDiff = X[1] - Y[1] \n",
    "\treturn xDiff * xDiff + yDiff * yDiff \n",
    "\t\n",
    "def printAngle(A, B, C): \n",
    "\ta2 = lengthSquare(B, C) \n",
    "\tb2 = lengthSquare(A, C) \n",
    "\tc2 = lengthSquare(A, B) \n",
    "\ta = math.sqrt(a2); \n",
    "\tb = math.sqrt(b2); \n",
    "\tc = math.sqrt(c2); \n",
    "\talpha = math.acos((b2 + c2 - a2) /\n",
    "\t\t\t\t\t\t(2 * b * c)); \n",
    "\tbetta = math.acos((a2 + c2 - b2) /\n",
    "\t\t\t\t\t\t(2 * a * c)); \n",
    "\tgamma = math.acos((a2 + b2 - c2) /\n",
    "\t\t\t\t\t\t(2 * a * b)); \n",
    "\talpha = alpha * 180 / math.pi; \n",
    "\tbetta = betta * 180 / math.pi; \n",
    "\tgamma = gamma * 180 / math.pi; \n",
    "\tprint(\"alpha : %f\" %(alpha)) \n",
    "\tprint(\"betta : %f\" %(betta)) \n",
    "\tprint(\"gamma : %f\" %(gamma)) \n",
    "A = (0, 0) \n",
    "B = (0, 1) \n",
    "C = (1, 0) \n",
    "\n",
    "printAngle(A, B, C); \n",
    "\n",
    "#Time complexity=O(logn)\n",
    "#Space complexity=O(1)\n"
   ]
  }
 ],
 "metadata": {
  "language_info": {
   "name": "python"
  }
 },
 "nbformat": 4,
 "nbformat_minor": 2
}
