{
 "cells": [
  {
   "cell_type": "code",
   "execution_count": 1,
   "metadata": {},
   "outputs": [],
   "source": [
    "class Solution:\n",
    "    def closeStrings(self, word1: str, word2: str) -> bool:\n",
    "        c1=Counter(word1)\n",
    "        c2=Counter(word2)\n",
    "        n1=Counter([v for v in c1.values()])\n",
    "        n2=Counter([v for v in c2.values()])\n",
    "        return c1==c2 or (n1==n2 and set(word1)==set(word2))\n",
    "    \n",
    "#Time complexity=O(n)\n",
    "#Space complexity=O(n)"
   ]
  }
 ],
 "metadata": {
  "kernelspec": {
   "display_name": "Python 3",
   "language": "python",
   "name": "python3"
  },
  "language_info": {
   "codemirror_mode": {
    "name": "ipython",
    "version": 3
   },
   "file_extension": ".py",
   "mimetype": "text/x-python",
   "name": "python",
   "nbconvert_exporter": "python",
   "pygments_lexer": "ipython3",
   "version": "3.11.4"
  }
 },
 "nbformat": 4,
 "nbformat_minor": 2
}
