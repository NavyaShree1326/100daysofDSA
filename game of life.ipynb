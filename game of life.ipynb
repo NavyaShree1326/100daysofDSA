{
 "cells": [
  {
   "cell_type": "code",
   "execution_count": null,
   "metadata": {},
   "outputs": [],
   "source": [
    "from typing import List\n",
    "class Solution:\n",
    "    def gameOfLife(self, board: List[List[int]]) -> None:\n",
    "        m, n = len(board), len(board[0])\n",
    "        neighbors = [\n",
    "            (-1, -1), (-1, 0), (-1, 1), (0, 1), (1, 1), (1, 0), (1, -1), (0, -1)\n",
    "            ]\n",
    "        transition_map = {\n",
    "            (0, 0): 0, (0, 1): 2, (1, 0): 3, (1, 1): 1\n",
    "        }\n",
    "        \n",
    "        def count_neighbors(idx, jdx):\n",
    "            count = 0\n",
    "            for neighbor in neighbors:\n",
    "                kdx, ldx = idx+neighbor[0], jdx+neighbor[1]\n",
    "                if 0<=kdx<m and 0<=ldx<n:\n",
    "                    if board[kdx][ldx] == 1 or board[kdx][ldx] == 3:\n",
    "                        count += 1\n",
    "            return count\n",
    "\n",
    "        def decide_life(idx, jdx):\n",
    "            curr_state = board[idx][jdx]\n",
    "            alive_neighbors_count = count_neighbors(idx, jdx)\n",
    "            \n",
    "            if curr_state == 1:\n",
    "                if alive_neighbors_count < 2:\n",
    "                    next_state = 0\n",
    "                if 1 < alive_neighbors_count < 4:\n",
    "                    next_state = 1\n",
    "                else:\n",
    "                    next_state = 0\n",
    "            else:\n",
    "                if alive_neighbors_count == 3:\n",
    "                    next_state = 1\n",
    "                else:\n",
    "                    next_state = 0\n",
    "\n",
    "            key = (curr_state, next_state)\n",
    "            board[idx][jdx] = transition_map[key]\n",
    "        for idx in range(m):\n",
    "            for jdx in range(n):\n",
    "                decide_life(idx, jdx)\n",
    "        for idx in range(m):\n",
    "            for jdx in range(n):\n",
    "                if board[idx][jdx] == 1 or board[idx][jdx] == 2:\n",
    "                    board[idx][jdx] = 1\n",
    "                else:\n",
    "                    board[idx][jdx] = 0\n",
    "#Time complexity=O(n^2)\n",
    "#Space complexity=O(1)"
   ]
  }
 ],
 "metadata": {
  "language_info": {
   "name": "python"
  }
 },
 "nbformat": 4,
 "nbformat_minor": 2
}
