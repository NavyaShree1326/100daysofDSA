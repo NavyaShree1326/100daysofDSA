{
 "cells": [
  {
   "cell_type": "code",
   "execution_count": null,
   "metadata": {},
   "outputs": [],
   "source": [
    "from typing import List\n",
    "class Solution:\n",
    "    def canVisitAllRooms(self, rooms: List[List[int]]) -> bool:\n",
    "        visited = set()\n",
    "        dic = {}\n",
    "        stack = []\n",
    "\n",
    "        for i in range(len(rooms)):\n",
    "            dic[i] = rooms[i]\n",
    "            \n",
    "        for i in dic[0]:\n",
    "            stack.append(i)\n",
    "\n",
    "        visited.add(0)\n",
    "        \n",
    "        while len(stack) > 0:\n",
    "            curr = stack.pop()\n",
    "            visited.add(curr)\n",
    "            for i in dic[curr]:\n",
    "                if i not in visited:\n",
    "                    stack.append(i)\n",
    "        \n",
    "        return len(dic) == len(visited)\n",
    "#Time complexity=O(n)\n",
    "#Space complexity=O(n)\n",
    "        "
   ]
  }
 ],
 "metadata": {
  "language_info": {
   "name": "python"
  }
 },
 "nbformat": 4,
 "nbformat_minor": 2
}
