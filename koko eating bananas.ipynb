{
 "cells": [
  {
   "cell_type": "code",
   "execution_count": null,
   "metadata": {},
   "outputs": [],
   "source": [
    "from typing import List\n",
    "class Solution:\n",
    "    def minEatingSpeed(self, piles: List[int], h: int) -> int:\n",
    "        def check_can_eat(k):\n",
    "            actual_h = 0\n",
    "            for pile in piles:\n",
    "                actual_h += (pile+k-1)//k\n",
    "            return actual_h <= h\n",
    "        l,r = 0,max(piles)\n",
    "        while r-l>1:\n",
    "            m=(l+r)//2\n",
    "            if check_can_eat(m):\n",
    "                r = m\n",
    "            else:\n",
    "                l = m\n",
    "        return r\n",
    "#Time complexity=O(n*logn)\n",
    "#Space complexity=O(1)"
   ]
  }
 ],
 "metadata": {
  "language_info": {
   "name": "python"
  }
 },
 "nbformat": 4,
 "nbformat_minor": 2
}
