{
 "cells": [
  {
   "cell_type": "code",
   "execution_count": null,
   "metadata": {},
   "outputs": [],
   "source": [
    "def binarySearch(arr, l, r, x):\n",
    "\n",
    "\twhile l <= r:\n",
    "\n",
    "\t\tmid = l + (r - l) // 2\n",
    "\n",
    "\t\tif arr[mid] == x:\n",
    "\t\t\treturn mid\n",
    "\n",
    "\t\telif arr[mid] < x:\n",
    "\t\t\tl = mid + 1\n",
    "\n",
    "\t\telse:\n",
    "\t\t\tr = mid - 1\n",
    "\n",
    "\n",
    "\treturn -1\n",
    "\n",
    "if __name__ == '__main__':\n",
    "\tarr = [2, 3, 4, 10, 40]\n",
    "\tx = 10\n",
    "\tresult = binarySearch(arr, 0, len(arr)-1, x)\n",
    "\tif result != -1:\n",
    "\t\tprint(\"Element is present at index\", result)\n",
    "\telse:\n",
    "\t\tprint(\"Element is not present in array\")\n",
    "#Time complexity=O(logN)\n",
    "#Spcae complexity=O(1)"
   ]
  }
 ],
 "metadata": {
  "language_info": {
   "name": "python"
  }
 },
 "nbformat": 4,
 "nbformat_minor": 2
}
