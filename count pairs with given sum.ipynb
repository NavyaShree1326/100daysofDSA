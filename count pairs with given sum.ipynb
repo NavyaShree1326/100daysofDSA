{
 "cells": [
  {
   "cell_type": "code",
   "execution_count": null,
   "metadata": {},
   "outputs": [],
   "source": [
    "def getPairsCount(arr, n, K):\n",
    "\n",
    "\tcount = 0 \n",
    "\tfor i in range(0, n):\n",
    "\t\tfor j in range(i + 1, n):\n",
    "\t\t\tif arr[i] + arr[j] == K:\n",
    "\t\t\t\tcount += 1\n",
    "\n",
    "\treturn count\n",
    "arr = [1, 5, 7, -1]\n",
    "n = len(arr)\n",
    "K = 6\n",
    "print(\"Count of pairs is\",\n",
    "\tgetPairsCount(arr, n, K))\n",
    "#Time complexity=O(n^2)\n",
    "#Space complexity=O(1)"
   ]
  }
 ],
 "metadata": {
  "language_info": {
   "name": "python"
  }
 },
 "nbformat": 4,
 "nbformat_minor": 2
}
