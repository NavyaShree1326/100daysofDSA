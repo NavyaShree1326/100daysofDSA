{
 "cells": [
  {
   "cell_type": "code",
   "execution_count": null,
   "metadata": {},
   "outputs": [],
   "source": [
    "import collections\n",
    "\n",
    "def the_helper(a, res, n):\n",
    "\tmp = collections.defaultdict(int)\n",
    "\tfor i in range(n):\n",
    "\t\tmp[a[i]] += 1\n",
    "\tfor key, val in mp.items():\n",
    "\t\tres.append((val, key))\n",
    "\tres.sort()\n",
    "\n",
    "if __name__ == '__main__':\n",
    "\ta = [2, 5, 2, 6, -1, 9999999, 5, 8, 8, 8]\n",
    "\tres = []\n",
    "\tthe_helper(a, res, len(a))\n",
    "\tres.reverse()\n",
    "\tfor i in range(len(res) - 1):\n",
    "\t\tif res[i][0] == res[i+1][0]:\n",
    "\t\t\tfor j in range(i+1, len(res)):\n",
    "\t\t\t\tif res[i][0] == res[j][0] and res[i][1] > res[j][1]:\n",
    "\t\t\t\t\tres[i], res[j] = res[j], res[i]\n",
    "\tfor i in range(len(res)):\n",
    "\t\tfor j in range(res[i][0]):\n",
    "\t\t\tprint(res[i][1], end=' ')\n",
    "#Time complexity=O(n^2)\n",
    "#Space complexity=O(1)\n"
   ]
  }
 ],
 "metadata": {
  "language_info": {
   "name": "python"
  }
 },
 "nbformat": 4,
 "nbformat_minor": 2
}
