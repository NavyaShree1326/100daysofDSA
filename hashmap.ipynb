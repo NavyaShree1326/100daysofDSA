{
 "cells": [
  {
   "cell_type": "code",
   "execution_count": 1,
   "metadata": {},
   "outputs": [
    {
     "name": "stdout",
     "output_type": "stream",
     "text": [
      "1\n",
      "-1\n",
      "1\n",
      "-1\n"
     ]
    }
   ],
   "source": [
    "class Node:\n",
    "   def __init__(self, key, val):\n",
    "      self.key = key\n",
    "      self.val = val\n",
    "      self.next = None\n",
    "class LinkedList:\n",
    "   def __init__(self):\n",
    "      self.prehead = Node(None, None)\n",
    "   def search(self, key):\n",
    "      p = self.prehead.next\n",
    "      while p:\n",
    "         if p.key == key:\n",
    "            return p\n",
    "         p = p.next\n",
    "      return None\n",
    "   def add(self, key, val):\n",
    "      p = self.search(key)\n",
    "      if p:\n",
    "         p.val = val\n",
    "      else:\n",
    "         node = Node(key, val)\n",
    "         self.prehead.next, node.next = node, self.prehead.next\n",
    "   def get(self, key):\n",
    "      p = self.search(key)\n",
    "      if p:\n",
    "         return p.val\n",
    "      else:\n",
    "         return None\n",
    "   def remove(self, key):\n",
    "      prev = self.prehead\n",
    "      cur = prev.next\n",
    "      while cur:\n",
    "         if cur.key == key:\n",
    "            break\n",
    "         prev, cur = cur, cur.next\n",
    "      if cur:\n",
    "         prev.next = cur.next\n",
    "   def serialize(self):\n",
    "      p = self.prehead.next\n",
    "      ret = []\n",
    "      while p:\n",
    "         ret.append([p.key, p.val])\n",
    "         p = p.next\n",
    "      return ret\n",
    "class MyHashMap:\n",
    "   def __init__(self):\n",
    "      self.size = 1033\n",
    "      self.arr = [LinkedList() for _ in range(self.size)]\n",
    "   def _hash(self, key):\n",
    "      return key % self.size\n",
    "   def put(self, key, value):\n",
    "      h = self._hash(key)\n",
    "      self.arr[h].add(key, value)\n",
    "   def get(self, key):\n",
    "      h = self._hash(key)\n",
    "      ret = self.arr[h].get(key)\n",
    "      if ret is not None:\n",
    "         return ret\n",
    "      else:\n",
    "         return -1\n",
    "   def remove(self, key):\n",
    "      h = self._hash(key)\n",
    "      self.arr[h].remove(key)\n",
    "ob = MyHashMap()\n",
    "ob.put(1, 1)\n",
    "ob.put(2, 2)\n",
    "print(ob.get(1))\n",
    "print(ob.get(3))\n",
    "ob.put(2, 1)\n",
    "print(ob.get(2))\n",
    "ob.remove(2)\n",
    "print(ob.get(2))"
   ]
  }
 ],
 "metadata": {
  "kernelspec": {
   "display_name": "Python 3",
   "language": "python",
   "name": "python3"
  },
  "language_info": {
   "codemirror_mode": {
    "name": "ipython",
    "version": 3
   },
   "file_extension": ".py",
   "mimetype": "text/x-python",
   "name": "python",
   "nbconvert_exporter": "python",
   "pygments_lexer": "ipython3",
   "version": "3.11.4"
  }
 },
 "nbformat": 4,
 "nbformat_minor": 2
}
