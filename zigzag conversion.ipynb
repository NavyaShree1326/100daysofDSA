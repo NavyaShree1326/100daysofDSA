{
 "cells": [
  {
   "cell_type": "code",
   "execution_count": null,
   "metadata": {},
   "outputs": [],
   "source": [
    "class Solution(object):\n",
    "    def convert(self, s, numRows):\n",
    "        if numRows == 1 or numRows >= len(s):\n",
    "            return s\n",
    "        \n",
    "        rows = [[] for row in range(numRows)]\n",
    "        index = 0\n",
    "        step = -1\n",
    "        for char in s:\n",
    "            rows[index].append(char)\n",
    "            if index == 0:\n",
    "                step = 1\n",
    "            elif index == numRows - 1:\n",
    "                step = -1\n",
    "            index += step\n",
    "\n",
    "        for i in range(numRows):\n",
    "            rows[i] = ''.join(rows[i])\n",
    "        return ''.join(rows)\n",
    "#Time complexity=O(n)\n",
    "#Space complexity=O(n)"
   ]
  }
 ],
 "metadata": {
  "language_info": {
   "name": "python"
  }
 },
 "nbformat": 4,
 "nbformat_minor": 2
}
