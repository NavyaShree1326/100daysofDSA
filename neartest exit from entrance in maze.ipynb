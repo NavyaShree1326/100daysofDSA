{
 "cells": [
  {
   "cell_type": "code",
   "execution_count": 1,
   "metadata": {},
   "outputs": [],
   "source": [
    "from typing import List\n",
    "class Solution:\n",
    "    def nearestExit(self, maze: List[List[str]], entrance: List[int]) -> int:\n",
    "        n, m = len(maze), len(maze[0])\n",
    "        \n",
    "        q = []\n",
    "        q.append([entrance[0], entrance[1]])\n",
    "        \n",
    "        ans = 0\n",
    "        while q:\n",
    "            temp = q.copy()\n",
    "            q.clear()\n",
    "            size = len(temp)\n",
    "\n",
    "            for curr in temp:\n",
    "                i, j = curr\n",
    "                \n",
    "                if ans > 0 and (i + 1 == n or i - 1 == -1 or j + 1 == m or j - 1 == -1):\n",
    "                    return ans\n",
    "                if i + 1 < n and maze[i + 1][j] == '.':\n",
    "                    q.append([i + 1, j])\n",
    "                    maze[i + 1][j] = '+'\n",
    "                if i - 1 >= 0 and maze[i - 1][j] == '.':\n",
    "                    q.append([i - 1, j])\n",
    "                    maze[i - 1][j] = '+'\n",
    "                if j + 1 < m and maze[i][j + 1] == '.':\n",
    "                    q.append([i, j + 1])\n",
    "                    maze[i][j + 1] = '+'\n",
    "                if j - 1 >= 0 and maze[i][j - 1] == '.':\n",
    "                    q.append([i, j - 1])\n",
    "                    maze[i][j - 1] = '+'\n",
    "                maze[i][j] = '+'\n",
    "            ans += 1\n",
    "        return -1\n",
    "#Time complexity=O(m*n)\n",
    "#SPace complexity=O(max(n,m))"
   ]
  }
 ],
 "metadata": {
  "kernelspec": {
   "display_name": "Python 3",
   "language": "python",
   "name": "python3"
  },
  "language_info": {
   "codemirror_mode": {
    "name": "ipython",
    "version": 3
   },
   "file_extension": ".py",
   "mimetype": "text/x-python",
   "name": "python",
   "nbconvert_exporter": "python",
   "pygments_lexer": "ipython3",
   "version": "3.11.4"
  }
 },
 "nbformat": 4,
 "nbformat_minor": 2
}
