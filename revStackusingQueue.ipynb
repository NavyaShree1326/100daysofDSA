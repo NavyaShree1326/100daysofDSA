{
 "cells": [
  {
   "cell_type": "code",
   "execution_count": 1,
   "metadata": {},
   "outputs": [
    {
     "name": "stdout",
     "output_type": "stream",
     "text": [
      "After Reverse : (Top to Bottom)\n",
      "40 30 20 10 "
     ]
    }
   ],
   "source": [
    "from collections import deque\n",
    "\n",
    "def reverse(stack):\n",
    "\tqueue = deque()\n",
    "\n",
    "\twhile stack != []:\n",
    "\t\tqueue.append(stack.pop())\n",
    "\twhile queue:\n",
    "\t\tstack.append(queue.popleft())\n",
    "\treturn stack\n",
    "\n",
    "stack = []\n",
    "stack.append(40) \n",
    "stack.append(30) \n",
    "stack.append(20) \n",
    "stack.append(10) \n",
    "\n",
    "stack = reverse(stack) \n",
    "\n",
    "print(\"After Reverse : (Top to Bottom)\")\n",
    "while stack != []:\n",
    "\tprint(stack[-1], end=\" \") \n",
    "\tstack.pop() \n",
    "#Time complexity=O(n)\n",
    "#Spcae complexity=O(n)\n"
   ]
  }
 ],
 "metadata": {
  "kernelspec": {
   "display_name": "Python 3",
   "language": "python",
   "name": "python3"
  },
  "language_info": {
   "codemirror_mode": {
    "name": "ipython",
    "version": 3
   },
   "file_extension": ".py",
   "mimetype": "text/x-python",
   "name": "python",
   "nbconvert_exporter": "python",
   "pygments_lexer": "ipython3",
   "version": "3.11.4"
  }
 },
 "nbformat": 4,
 "nbformat_minor": 2
}
