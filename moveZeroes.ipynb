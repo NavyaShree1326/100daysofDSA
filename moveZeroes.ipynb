{
 "cells": [
  {
   "cell_type": "code",
   "execution_count": null,
   "metadata": {},
   "outputs": [],
   "source": [
    "class Solution:\n",
    "    def moveZeroes(self, nums: list) -> None:\n",
    "        slow = 0\n",
    "        for fast in range(len(nums)):\n",
    "            if nums[fast] != 0 and nums[slow] == 0:\n",
    "                nums[slow], nums[fast] = nums[fast], nums[slow]\n",
    "\n",
    "            # wait while we find a non-zero element to\n",
    "            # swap with you\n",
    "            if nums[slow] != 0:\n",
    "                slow += 1\n",
    "\n",
    "#Time complexity=O(n)\n",
    "#Space complexity=O(1)"
   ]
  }
 ],
 "metadata": {
  "language_info": {
   "name": "python"
  }
 },
 "nbformat": 4,
 "nbformat_minor": 2
}
