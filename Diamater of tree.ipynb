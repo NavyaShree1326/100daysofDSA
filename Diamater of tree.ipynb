{
 "cells": [
  {
   "cell_type": "code",
   "execution_count": null,
   "metadata": {},
   "outputs": [],
   "source": [
    "class newNode: \n",
    "\tdef __init__(self, data): \n",
    "\t\tself.data = data \n",
    "\t\tself.left = self.right = None\n",
    "\n",
    "def height(root, ans): \n",
    "\tif (root == None): \n",
    "\t\treturn 0\n",
    "\n",
    "\tleft_height = height(root.left, ans) \n",
    "\n",
    "\tright_height = height(root.right, ans) \n",
    "\n",
    "\n",
    "\tans[0] = max(ans[0], 1 + left_height +\n",
    "\t\t\t\t\t\t\tright_height) \n",
    "\n",
    "\treturn 1 + max(left_height, \n",
    "\t\t\t\tright_height) \n",
    "\n",
    "def diameter(root): \n",
    "\tif (root == None): \n",
    "\t\treturn 0\n",
    "\tans = [-999999999999] \n",
    "\theight_of_tree = height(root, ans) \n",
    "\treturn ans[0] \n",
    "\n",
    "if __name__ == '__main__': \n",
    "\troot = newNode(1) \n",
    "\troot.left = newNode(2) \n",
    "\troot.right = newNode(3) \n",
    "\troot.left.left = newNode(4) \n",
    "\troot.left.right = newNode(5) \n",
    "\n",
    "\tprint(\"Diameter is\", diameter(root)) \n",
    "\n",
    "#Time complexity=O(n)\n",
    "#Space complexity=O(h)\n",
    "\n"
   ]
  }
 ],
 "metadata": {
  "language_info": {
   "name": "python"
  }
 },
 "nbformat": 4,
 "nbformat_minor": 2
}
