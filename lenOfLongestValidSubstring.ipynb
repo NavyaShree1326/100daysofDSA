{
 "cells": [
  {
   "cell_type": "code",
   "execution_count": null,
   "metadata": {},
   "outputs": [],
   "source": [
    "def findMaxLen(string):\n",
    "\tn = len(string)\n",
    "\tstk = []\n",
    "\tstk.append(-1)\n",
    "\n",
    "\tresult = 0\n",
    "\n",
    "\tfor i in range(n):\n",
    "\t\tif string[i] == '(':\n",
    "\t\t\tstk.append(i)\n",
    "\t\telse:\n",
    "\t\t\tif len(stk) != 0:\n",
    "\t\t\t\tstk.pop()\n",
    "\t\t\tif len(stk) != 0:\n",
    "\t\t\t\tresult = max(result,\n",
    "\t\t\t\t\t\t\ti - stk[len(stk)-1])\n",
    "\t\t\telse:\n",
    "\t\t\t\tstk.append(i)\n",
    "\n",
    "\treturn result\n",
    "\n",
    "\n",
    "string = \"((()()\"\n",
    "print (findMaxLen(string))\n",
    "string = \"()(()))))\"\n",
    "print (findMaxLen(string))\n",
    "#Time complexity=O(n)\n",
    "#Spcae complexity=O(n)\n"
   ]
  }
 ],
 "metadata": {
  "language_info": {
   "name": "python"
  }
 },
 "nbformat": 4,
 "nbformat_minor": 2
}
