{
 "cells": [
  {
   "cell_type": "code",
   "execution_count": 2,
   "metadata": {},
   "outputs": [],
   "source": [
    "#Input:Two worfs would be given \n",
    "'''To be megred alternately starting with the first word one letter of the first word then the one letter of the second word and so on if any \n",
    "word  is longer than the other the remainjng letters to be added at the end '''\n",
    "#Chechking if the words are equal or grater than each other and respectively taking the measures\n",
    "\n",
    "\n",
    "\n",
    "class Solution:\n",
    "    def mergeAlternately(self, word1: str, word2: str) -> str:\n",
    "        ans = \"\"\n",
    "        remainder = \"\"\n",
    "\n",
    "        if len(word1) < len(word2):\n",
    "            remainder = word2[len(word1):]\n",
    "        elif len(word2) < len(word1):\n",
    "            remainder = word1[len(word2):]\n",
    "        \n",
    "        for i in range(min(len(word1),len(word2))):\n",
    "            ans += word1[i]\n",
    "            ans += word2[i]\n",
    "        ans += remainder\n",
    "\n",
    "        return ans\n",
    "\n",
    "#Time complexity=O(Min(lw1,lw2))\n",
    "#Space complexity=O(Max(lw1,lw2))\n",
    "\n",
    "    \n",
    "\n",
    "\n",
    "        "
   ]
  },
  {
   "cell_type": "code",
   "execution_count": null,
   "metadata": {},
   "outputs": [],
   "source": []
  }
 ],
 "metadata": {
  "kernelspec": {
   "display_name": "Python 3",
   "language": "python",
   "name": "python3"
  },
  "language_info": {
   "codemirror_mode": {
    "name": "ipython",
    "version": 3
   },
   "file_extension": ".py",
   "mimetype": "text/x-python",
   "name": "python",
   "nbconvert_exporter": "python",
   "pygments_lexer": "ipython3",
   "version": "3.11.4"
  }
 },
 "nbformat": 4,
 "nbformat_minor": 2
}
