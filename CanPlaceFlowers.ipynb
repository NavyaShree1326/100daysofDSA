{
 "cells": [
  {
   "cell_type": "code",
   "execution_count": null,
   "metadata": {},
   "outputs": [],
   "source": [
    "class Solution:\n",
    "    def canPlaceFlowers(self, flowerbed: List[int], n: int) -> bool:\n",
    "        if n == 0:\n",
    "            return True\n",
    "        flowerbed.append(0)\n",
    "        k = 0\n",
    "        i = 0\n",
    "        while i < len(flowerbed)-1:\n",
    "            if flowerbed[i+1] == 0:\n",
    "                if flowerbed[i] == 0:\n",
    "                    k += 1\n",
    "                    if k == n:\n",
    "                        return True\n",
    "\n",
    "                i += 2\n",
    "            else:\n",
    "                i += 3\n",
    "        \n",
    "        return False\n",
    "#Time complexity=O(n)\n",
    "#Space compleixty=O(1)"
   ]
  }
 ],
 "metadata": {
  "language_info": {
   "name": "python"
  }
 },
 "nbformat": 4,
 "nbformat_minor": 2
}
