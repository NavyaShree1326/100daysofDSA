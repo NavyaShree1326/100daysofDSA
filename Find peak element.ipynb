{
 "cells": [
  {
   "cell_type": "code",
   "execution_count": null,
   "metadata": {},
   "outputs": [],
   "source": [
    "from typing import List\n",
    "class Solution:\n",
    "    def findPeakElement(self, nums: List[int]) -> int:\n",
    "        n=len(nums)\n",
    "        if n==1:\n",
    "            return 0\n",
    "        low=0\n",
    "        high=len(nums)-1\n",
    "        while low<=high:\n",
    "            mid=low+(high-low)//2\n",
    "            if mid==0:\n",
    "                if nums[mid]>nums[mid+1]:\n",
    "                    return mid\n",
    "                else:\n",
    "                    low=mid+1\n",
    "            elif mid==n-1:\n",
    "                if nums[mid]>nums[mid-1]:\n",
    "                    return mid\n",
    "                else:\n",
    "                    high=mid-1\n",
    "            else:\n",
    "                if nums[mid]>nums[mid+1] and nums[mid]>nums[mid-1]:\n",
    "                    return mid\n",
    "                else:\n",
    "                    if nums[mid]<nums[mid+1]:\n",
    "                        low=mid+1\n",
    "                    else:\n",
    "                        high=mid-1\n",
    "        return -1\n",
    "#Time complexity=O(logN)\n",
    "#Space complexity=O(1)"
   ]
  }
 ],
 "metadata": {
  "language_info": {
   "name": "python"
  }
 },
 "nbformat": 4,
 "nbformat_minor": 2
}
