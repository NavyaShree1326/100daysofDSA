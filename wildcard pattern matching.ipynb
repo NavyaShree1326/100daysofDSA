{
 "cells": [
  {
   "cell_type": "code",
   "execution_count": null,
   "metadata": {},
   "outputs": [],
   "source": [
    "def isMatch(s, p):\n",
    "\tm, n = len(s), len(p)\n",
    "\n",
    "\tdp = [[False] * (n + 1) for _ in range(m + 1)]\n",
    "\n",
    "\tdp[0][0] = True\n",
    "\n",
    "\tfor j in range(1, n + 1):\n",
    "\t\tif p[j - 1] == '*':\n",
    "\t\t\tdp[0][j] = dp[0][j - 1]\n",
    "\n",
    "\tfor i in range(1, m + 1):\n",
    "\t\tfor j in range(1, n + 1):\n",
    "\t\t\tif p[j - 1] == '*':\n",
    "\t\t\t\tdp[i][j] = dp[i - 1][j] or dp[i][j - 1]\n",
    "\t\t\telif p[j - 1] == '?' or p[j - 1] == s[i - 1]:\n",
    "\t\t\t\tdp[i][j] = dp[i - 1][j - 1]\n",
    "\n",
    "\treturn dp[m][n]\n",
    "\n",
    "str = \"baaabab\"\n",
    "pattern = \"*****ba*****ab\"\n",
    "\n",
    "if isMatch(str, pattern):\n",
    "\tprint(\"Yes\")\n",
    "else:\n",
    "\tprint(\"No\")\n",
    "#Time complexity=O(m*n)\n",
    "#Space complexity=O(m*n)\n"
   ]
  }
 ],
 "metadata": {
  "language_info": {
   "name": "python"
  }
 },
 "nbformat": 4,
 "nbformat_minor": 2
}
