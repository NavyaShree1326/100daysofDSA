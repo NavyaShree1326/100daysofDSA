{
 "cells": [
  {
   "cell_type": "code",
   "execution_count": null,
   "metadata": {},
   "outputs": [],
   "source": [
    "import sys\n",
    "def solveWordWrap(arr, n, k):\n",
    "\tdp = [0] * n\n",
    "\tans = [0] * n\n",
    "\tdp[n - 1] = 0\n",
    "\tans[n - 1] = n - 1\n",
    "\n",
    "\tfor i in range(n - 2, -1, -1):\n",
    "\t\tcurrlen = -1\n",
    "\t\tdp[i] = sys.maxsize\n",
    "\t\tfor j in range(i, n):\n",
    "\t\t\tcurrlen += (arr[j] + 1)\n",
    "\t\t\tif (currlen > k):\n",
    "\t\t\t\tbreak\n",
    "\t\t\tif (j == n - 1):\n",
    "\t\t\t\tcost = 0\n",
    "\t\t\telse:\n",
    "\t\t\t\tcost = ((k - currlen) *\n",
    "\t\t\t\t\t\t(k - currlen) + dp[j + 1])\n",
    "\t\t\tif (cost < dp[i]):\n",
    "\t\t\t\tdp[i] = cost\n",
    "\t\t\t\tans[i] = j\n",
    "\ti = 0\n",
    "\twhile (i < n):\n",
    "\t\tprint(i + 1 , ans[i] + 1, end = \" \")\n",
    "\t\ti = ans[i] + 1\n",
    "if __name__ == \"__main__\":\n",
    "\tarr = [3, 2, 2, 5 ]\n",
    "\tn = len(arr)\n",
    "\tM = 6\n",
    "\tsolveWordWrap(arr, n, M)\n",
    "#Time complexity=O(n^2)\n",
    "#Space complexity=O(n)\n"
   ]
  }
 ],
 "metadata": {
  "language_info": {
   "name": "python"
  }
 },
 "nbformat": 4,
 "nbformat_minor": 2
}
