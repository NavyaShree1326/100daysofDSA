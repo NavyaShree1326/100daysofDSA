{
 "cells": [
  {
   "cell_type": "code",
   "execution_count": null,
   "metadata": {},
   "outputs": [],
   "source": [
    "def printLeaders(arr, size):\n",
    "\t\n",
    "\tmax_from_right = arr[size-1] \n",
    "\tprint (max_from_right,end=' ') \n",
    "\tfor i in range( size-2, -1, -1):\t \n",
    "\t\tif max_from_right < arr[i]:\t \n",
    "\t\t\tprint (arr[i],end=' ')\n",
    "\t\t\tmax_from_right = arr[i]\n",
    "\t\t\n",
    "arr = [16, 17, 4, 3, 5, 2]\n",
    "printLeaders(arr, len(arr))\n",
    "\n",
    "#Time complexity=O(n)\n",
    "#Space complexity=O(1)\n"
   ]
  }
 ],
 "metadata": {
  "language_info": {
   "name": "python"
  }
 },
 "nbformat": 4,
 "nbformat_minor": 2
}
