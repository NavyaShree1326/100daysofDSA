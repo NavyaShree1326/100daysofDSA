{
 "cells": [
  {
   "cell_type": "code",
   "execution_count": null,
   "metadata": {},
   "outputs": [],
   "source": [
    "class newNode:\n",
    "\tdef __init__(self, data):\n",
    "\t\tself.data = data \n",
    "\t\tself.left = self.right = None\n",
    "\n",
    "def inorder(node, m):\n",
    "\tif (not node): \n",
    "\t\treturn \"\" \n",
    "\n",
    "\tStr = \"(\"\n",
    "\tStr += inorder(node.left, m) \n",
    "\tStr += str(node.data) \n",
    "\tStr += inorder(node.right, m) \n",
    "\tStr += \")\"\n",
    "\n",
    " \n",
    "\tif (Str in m and m[Str] == 1): \n",
    "\t\tprint(node.data, end = \" \") \n",
    "\tif Str in m:\n",
    "\t\tm[Str] += 1\n",
    "\telse:\n",
    "\t\tm[Str] = 1\n",
    "\n",
    "\treturn Str\n",
    " \n",
    "def printAllDups(root):\n",
    "\tm = {} \n",
    "\tinorder(root, m)\n",
    "\n",
    "if __name__ == '__main__':\n",
    "\troot = None\n",
    "\troot = newNode(1) \n",
    "\troot.left = newNode(2) \n",
    "\troot.right = newNode(3) \n",
    "\troot.left.left = newNode(4) \n",
    "\troot.right.left = newNode(2) \n",
    "\troot.right.left.left = newNode(4) \n",
    "\troot.right.right = newNode(4) \n",
    "\tprintAllDups(root) \n",
    "#Time complexity=O(n^2)\n",
    "#Space complexity=O(n^2)\n"
   ]
  }
 ],
 "metadata": {
  "language_info": {
   "name": "python"
  }
 },
 "nbformat": 4,
 "nbformat_minor": 2
}
