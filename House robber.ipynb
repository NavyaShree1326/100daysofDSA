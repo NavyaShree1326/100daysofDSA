{
 "cells": [
  {
   "cell_type": "code",
   "execution_count": null,
   "metadata": {},
   "outputs": [],
   "source": [
    "class Solution:\n",
    "    def rob(self, nums: List[int]) -> int:\n",
    "        if len(nums) == 1:\n",
    "            return nums[0]\n",
    "        \n",
    "        if len(nums) == 2:\n",
    "            return nums[0] if nums[0] > nums[1] else nums[1]\n",
    "\n",
    "        def dp(i, nums, cache):\n",
    "        \n",
    "            if i >= len(nums)-2 and i < len(nums):\n",
    "                return nums[i]\n",
    "            if i >= len(nums)-1:\n",
    "                return 0\n",
    "\n",
    "            if i in cache:\n",
    "                return cache[i]\n",
    "\n",
    "            rob_next_2 = dp(i+2, nums, cache)\n",
    "            rob_next_3 = dp(i+3, nums, cache)\n",
    "\n",
    "            max_n = max(rob_next_2, rob_next_3)\n",
    "            cache[i] = max_n + nums[i]\n",
    "\n",
    "            return max_n + nums[i]\n",
    "\n",
    "        cache = {}\n",
    "        \n",
    "        return max(dp(0, nums, cache), dp(1, nums, cache))\n",
    "#Time complexity=O(n)\n",
    "#Space complexity=O(n)\n",
    "            "
   ]
  }
 ],
 "metadata": {
  "language_info": {
   "name": "python"
  }
 },
 "nbformat": 4,
 "nbformat_minor": 2
}
