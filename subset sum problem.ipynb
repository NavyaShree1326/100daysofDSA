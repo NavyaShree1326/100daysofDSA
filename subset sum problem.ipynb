{
 "cells": [
  {
   "cell_type": "code",
   "execution_count": null,
   "metadata": {},
   "outputs": [],
   "source": [
    "flag = False\n",
    "\n",
    "def print_subset_sum(i, n, _set, target_sum, subset):\n",
    "\tglobal flag\n",
    "\tif target_sum == 0:\n",
    "\t\tflag = True\n",
    "\t\tprint(\"[\", end=\" \")\n",
    "\t\tfor element in subset:\n",
    "\t\t\tprint(element, end=\" \")\n",
    "\t\tprint(\"]\", end=\" \")\n",
    "\t\treturn\n",
    "\n",
    "\tif i == n:\n",
    "\t\treturn\n",
    "\tprint_subset_sum(i + 1, n, _set, target_sum, subset)\n",
    "\tif _set[i] <= target_sum:\n",
    "\t\tsubset.append(_set[i])\n",
    "\t\tprint_subset_sum(i + 1, n, _set, target_sum - _set[i], subset)\n",
    "\t\tsubset.pop()\n",
    "\n",
    "\n",
    "if __name__ == \"__main__\":\n",
    "\tset_1 = [1, 2, 1]\n",
    "\tsum_1 = 3\n",
    "\tn_1 = len(set_1)\n",
    "\tsubset_1 = []\n",
    "\tprint(\"Output 1:\")\n",
    "\tprint_subset_sum(0, n_1, set_1, sum_1, subset_1)\n",
    "\tprint()\n",
    "\tflag = False\n",
    "\tset_2 = [3, 34, 4, 12, 5, 2]\n",
    "\tsum_2 = 30\n",
    "\tn_2 = len(set_2)\n",
    "\tsubset_2 = []\n",
    "\tprint(\"Output 2:\")\n",
    "\tprint_subset_sum(0, n_2, set_2, sum_2, subset_2)\n",
    "\tif not flag:\n",
    "\t\tprint(\"There is no such subset\")\n",
    "#Time Complexity: O(2^n) \n",
    "#Auxiliary Space: O(n) \n",
    "\n"
   ]
  }
 ],
 "metadata": {
  "language_info": {
   "name": "python"
  }
 },
 "nbformat": 4,
 "nbformat_minor": 2
}
