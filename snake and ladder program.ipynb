{
 "cells": [
  {
   "cell_type": "code",
   "execution_count": null,
   "metadata": {},
   "outputs": [],
   "source": [
    "class QueueEntry(object):\n",
    "\tdef __init__(self, v=0, dist=0):\n",
    "\t\tself.v = v\n",
    "\t\tself.dist = dist\n",
    "\n",
    "def getMinDiceThrows(move, N):\n",
    "\tvisited = [False] * N\n",
    "\tqueue = []\n",
    "\tvisited[0] = True\n",
    "\tqueue.append(QueueEntry(0, 0))\n",
    "\tqe = QueueEntry() \n",
    "\twhile queue:\n",
    "\t\tqe = queue.pop(0)\n",
    "\t\tv = qe.v \n",
    "\t\tif v == N - 1:\n",
    "\t\t\tbreak\n",
    "\t\tj = v + 1\n",
    "\t\twhile j <= v + 6 and j < N:\n",
    "\t\t\tif visited[j] is False:\n",
    "\t\t\t\ta = QueueEntry()\n",
    "\t\t\t\ta.dist = qe.dist + 1\n",
    "\t\t\t\tvisited[j] = True\n",
    "\t\t\t\ta.v = move[j] if move[j] != -1 else j\n",
    "\n",
    "\t\t\t\tqueue.append(a)\n",
    "\n",
    "\t\t\tj += 1\n",
    "\treturn qe.dist\n",
    "N = 30\n",
    "moves = [-1] * N\n",
    "moves[2] = 21\n",
    "moves[4] = 7\n",
    "moves[10] = 25\n",
    "moves[19] = 28\n",
    "moves[26] = 0\n",
    "moves[20] = 8\n",
    "moves[16] = 3\n",
    "moves[18] = 6\n",
    "\n",
    "print(\"Min Dice throws required is {0}\".\n",
    "\tformat(getMinDiceThrows(moves, N)))\n",
    "\n",
    "#Time complexity=O(n)\n",
    "#SPace complexity=O(n)\n"
   ]
  }
 ],
 "metadata": {
  "language_info": {
   "name": "python"
  }
 },
 "nbformat": 4,
 "nbformat_minor": 2
}
