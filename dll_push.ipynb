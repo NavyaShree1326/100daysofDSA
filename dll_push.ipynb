{
 "cells": [
  {
   "cell_type": "code",
   "execution_count": null,
   "metadata": {},
   "outputs": [],
   "source": [
    "class Node:\n",
    "  def __init__(self, data):\n",
    "    self.data = data \n",
    "    self.next = None \n",
    "    self.prev = None \n",
    "\n",
    "class DoublyLinkedList:\n",
    "  def __init__(self):\n",
    "    self.head = None \n",
    "    self.tail = None\n",
    "  \n",
    "\n",
    "  def push_front(self, new_data): \n",
    "    new_node = Node(new_data) \n",
    "    new_node.next = self.head \n",
    "\n",
    "    if self.head != None: \n",
    "        self.head.prev = new_node \n",
    "        self.head = new_node \n",
    "        new_node.prev = None\n",
    "    \n",
    "    else: \n",
    "      self.head = new_node\n",
    "      self.tail = new_node\n",
    "      new_node.prev = None \n",
    "    \n",
    "\n",
    "  def push_back(self, new_data): \n",
    "      new_node = Node(new_data)\n",
    "      new_node.prev = self.tail\n",
    "\n",
    "      if self.tail == None: \n",
    "        self.head = new_node \n",
    "        self.tail = new_node\n",
    "        new_node.next = None \n",
    "              \n",
    "      else: \n",
    "        self.tail.next = new_node\n",
    "        new_node.next = None\n",
    "        self.tail = new_node "
   ]
  }
 ],
 "metadata": {
  "language_info": {
   "name": "python"
  }
 },
 "nbformat": 4,
 "nbformat_minor": 2
}
