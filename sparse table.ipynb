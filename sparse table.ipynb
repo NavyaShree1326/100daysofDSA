{
 "cells": [
  {
   "cell_type": "code",
   "execution_count": null,
   "metadata": {},
   "outputs": [],
   "source": [
    "import math\n",
    "\n",
    "def buildSparseTable(arr, n):\n",
    "\tfor i in range(0, n): \n",
    "\t\tlookup[i][0] = arr[i] \n",
    "\tj = 1\n",
    "\twhile (1 << j) <= n: \n",
    "\t\ti = 0\n",
    "\t\twhile (i + (1 << j) - 1) < n: \n",
    "\t\t\tif (lookup[i][j - 1] < \n",
    "\t\t\t\tlookup[i + (1 << (j - 1))][j - 1]): \n",
    "\t\t\t\tlookup[i][j] = lookup[i][j - 1] \n",
    "\t\t\telse:\n",
    "\t\t\t\tlookup[i][j] = \\\n",
    "\t\t\t\t\t\tlookup[i + (1 << (j - 1))][j - 1] \n",
    "\t\t\ti += 1\n",
    "\t\tj += 1\t\n",
    "\n",
    "def query(L, R): \n",
    "\tj = int(math.log2(R - L + 1)) \n",
    "\tif lookup[L][j] <= lookup[R - (1 << j) + 1][j]: \n",
    "\t\treturn lookup[L][j] \n",
    "\telse:\n",
    "\t\treturn lookup[R - (1 << j) + 1][j] \n",
    "\n",
    "\n",
    "if __name__ == \"__main__\":\n",
    "\ta = [7, 2, 3, 0, 5, 10, 3, 12, 18] \n",
    "\tn = len(a) \n",
    "\tMAX = 500\n",
    "#Time complexity=O(n*Logn)\n",
    "#Space complexity=O(n*Logn)\n",
    "\t\n",
    "\n",
    "\n",
    "\n",
    "\n",
    "\n",
    "\tlookup = [[0 for i in range(MAX)]\n",
    "\t\t\t\tfor j in range(MAX)]\n",
    "\n",
    "\tbuildSparseTable(a, n) \n",
    "\tprint(query(0, 4)) \n",
    "\tprint(query(4, 7)) \n",
    "\tprint(query(7, 8)) \n",
    "\t\n"
   ]
  }
 ],
 "metadata": {
  "language_info": {
   "name": "python"
  }
 },
 "nbformat": 4,
 "nbformat_minor": 2
}
