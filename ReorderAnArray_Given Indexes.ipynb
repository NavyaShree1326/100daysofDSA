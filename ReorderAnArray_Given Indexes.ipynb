{
 "cells": [
  {
   "cell_type": "code",
   "execution_count": null,
   "metadata": {},
   "outputs": [],
   "source": [
    "def reorder(arr,index, n):\n",
    "\n",
    "\ttemp = [0] * n;\n",
    "\tfor i in range(0,n):\n",
    "\t\ttemp[index[i]] = arr[i]\n",
    "\n",
    "\tfor i in range(0,n):\n",
    "\t\tarr[i] = temp[i]\n",
    "\t\tindex[i] = i\n",
    "\t\n",
    "arr = [50, 40, 70, 60, 90]\n",
    "index = [3, 0, 4, 1, 2]\n",
    "n = len(arr)\n",
    "\n",
    "reorder(arr, index, n)\n",
    "\n",
    "print(\"Reordered array is:\")\n",
    "for i in range(0,n):\n",
    "\tprint(arr[i],end = \" \")\n",
    "\n",
    "print(\"\\nModified Index array is:\")\n",
    "for i in range(0,n):\n",
    "\tprint(index[i],end = \" \")\n",
    "\n",
    "#Time complexity=O(n)\n",
    "#Space Complexity=O(n)\n"
   ]
  }
 ],
 "metadata": {
  "language_info": {
   "name": "python"
  }
 },
 "nbformat": 4,
 "nbformat_minor": 2
}
