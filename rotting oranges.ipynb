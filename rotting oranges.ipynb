{
 "cells": [
  {
   "cell_type": "code",
   "execution_count": 1,
   "metadata": {},
   "outputs": [],
   "source": [
    "from typing import List\n",
    "class Solution:\n",
    "    def dfs(self, rotten_after, grid, row, col):\n",
    "        if (col < len(grid[0]) - 1 and grid[row][col + 1] == 1):\n",
    "            if (rotten_after[row][col + 1] == 0 or rotten_after[row][col + 1] > rotten_after[row][col] + 1):\n",
    "                rotten_after[row][col + 1] = rotten_after[row][col] + 1\n",
    "                self.dfs(rotten_after, grid, row, col+1)\n",
    "                \n",
    "        if (col > 0 and grid[row][col - 1] == 1):\n",
    "            if (rotten_after[row][col - 1] == 0 or rotten_after[row][col - 1] > rotten_after[row][col] + 1):\n",
    "                rotten_after[row][col - 1] = rotten_after[row][col] + 1\n",
    "                self.dfs(rotten_after, grid, row, col-1)\n",
    "            \n",
    "        if (row < len(grid) - 1 and grid[row + 1][col] == 1):\n",
    "            if (rotten_after[row + 1][col] == 0 or rotten_after[row + 1][col] > rotten_after[row][col] + 1):\n",
    "                rotten_after[row + 1][col] = rotten_after[row][col] + 1\n",
    "                self.dfs(rotten_after, grid, row+1, col)\n",
    "            \n",
    "        if (row > 0 and grid[row - 1][col] == 1):\n",
    "            if (rotten_after[row - 1][col] == 0 or rotten_after[row - 1][col] > rotten_after[row][col] + 1):\n",
    "                rotten_after[row - 1][col] = rotten_after[row][col] + 1\n",
    "                self.dfs(rotten_after, grid, row-1, col)\n",
    "                \n",
    "    def orangesRotting(self, grid: List[List[int]]) -> int:\n",
    "  \n",
    "        rows = len(grid)\n",
    "        if rows == 0:\n",
    "            return -1\n",
    " \n",
    "        cols = len(grid[0])\n",
    "\n",
    "        rotten_after = [[0] * cols for _ in range(rows)]\n",
    "        \n",
    "       \n",
    "        for row in range(rows):\n",
    "            for col in range(cols):\n",
    "                if grid[row][col] == 2:\n",
    "                    self.dfs(rotten_after, grid, row, col)\n",
    "\n",
    "       \n",
    "        for row in range(rows):\n",
    "            for col in range(cols):\n",
    "                if grid[row][col] == 1 and rotten_after[row][col] == 0:\n",
    "                    return -1\n",
    "\n",
    "        res = -1\n",
    "        for row in range(rows):\n",
    "            for col in range(cols):\n",
    "                res = max(res, rotten_after[row][col])\n",
    "\n",
    "        return res\n",
    "#Time complexity=O(mn)\n",
    "#Space complexity=O(mn)\n"
   ]
  }
 ],
 "metadata": {
  "kernelspec": {
   "display_name": "Python 3",
   "language": "python",
   "name": "python3"
  },
  "language_info": {
   "codemirror_mode": {
    "name": "ipython",
    "version": 3
   },
   "file_extension": ".py",
   "mimetype": "text/x-python",
   "name": "python",
   "nbconvert_exporter": "python",
   "pygments_lexer": "ipython3",
   "version": "3.11.4"
  }
 },
 "nbformat": 4,
 "nbformat_minor": 2
}
