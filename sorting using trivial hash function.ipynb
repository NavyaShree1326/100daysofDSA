{
 "cells": [
  {
   "cell_type": "code",
   "execution_count": null,
   "metadata": {},
   "outputs": [],
   "source": [
    "def sortUsingHash(a, n):\n",
    "\tMax = max(a)\n",
    "\tHash = [0] * (Max + 1)\n",
    "\tfor i in range(0, n):\n",
    "\t\tHash[a[i]] += 1\n",
    "\tfor i in range(0, Max + 1):\n",
    "\t\tif Hash[i] != 0:\n",
    "\t\t\tfor j in range(0, Hash[i]):\n",
    "\t\t\t\tprint(i, end=\" \")\n",
    "if __name__ == \"__main__\":\n",
    "\n",
    "\ta = [9, 4, 3, 2, 5, 2, 1, 0, 4,\n",
    "\t\t3, 5, 10, 15, 12, 18, 20, 19]\n",
    "\tn = len(a)\n",
    "\n",
    "\tsortUsingHash(a, n)\n",
    "\n",
    "#Time complexity=O(max*n)\n",
    "#Space complexity=O(max)\n"
   ]
  }
 ],
 "metadata": {
  "language_info": {
   "name": "python"
  }
 },
 "nbformat": 4,
 "nbformat_minor": 2
}
