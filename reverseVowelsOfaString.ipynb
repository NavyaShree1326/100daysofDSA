{
 "cells": [
  {
   "cell_type": "code",
   "execution_count": 1,
   "metadata": {},
   "outputs": [],
   "source": [
    "class Solution:\n",
    "  def reverseVowels(self, s: str) -> str:\n",
    "    str_index = []\n",
    "    vowel = []\n",
    "    res = []\n",
    "    pos = -1\n",
    "    for index, value in enumerate(s):\n",
    "        if value in 'aeiouAEIOU':\n",
    "            str_index.append(-1)\n",
    "            vowel.append(value)\n",
    "        else:\n",
    "            str_index.append(index)\n",
    "    for index in str_index:\n",
    "        if index < 0:\n",
    "            res.append(vowel[pos])\n",
    "            pos -= 1\n",
    "        else:\n",
    "            res.append(s[index])\n",
    "    return ''.join(res)\n",
    "  #Time complexity=O(n)\n",
    "   #Spcaee complexity=O(n)"
   ]
  },
  {
   "cell_type": "code",
   "execution_count": null,
   "metadata": {},
   "outputs": [],
   "source": []
  }
 ],
 "metadata": {
  "kernelspec": {
   "display_name": "Python 3",
   "language": "python",
   "name": "python3"
  },
  "language_info": {
   "codemirror_mode": {
    "name": "ipython",
    "version": 3
   },
   "file_extension": ".py",
   "mimetype": "text/x-python",
   "name": "python",
   "nbconvert_exporter": "python",
   "pygments_lexer": "ipython3",
   "version": "3.11.4"
  }
 },
 "nbformat": 4,
 "nbformat_minor": 2
}
