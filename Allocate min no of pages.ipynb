{
 "cells": [
  {
   "cell_type": "code",
   "execution_count": null,
   "metadata": {},
   "outputs": [],
   "source": [
    "def isPossible(arr, n, m, curr_min):\n",
    "\tstudentsRequired = 1\n",
    "\tcurr_sum = 0\n",
    "\tfor i in range(n):\n",
    "\n",
    "\t\tif (arr[i] > curr_min):\n",
    "\t\t\treturn False\n",
    "\t\tif (curr_sum + arr[i] > curr_min):\n",
    "\t\t\tstudentsRequired += 1\n",
    "\t\t\tcurr_sum = arr[i]\n",
    "\t\t\tif (studentsRequired > m):\n",
    "\t\t\t\treturn False\n",
    "\t\telse:\n",
    "\t\t\tcurr_sum += arr[i]\n",
    "\n",
    "\treturn True\n",
    "def findPages(arr, n, m):\n",
    "\n",
    "\tsum = 0\n",
    "\tif (n < m):\n",
    "\t\treturn -1\n",
    "\tfor i in range(n):\n",
    "\t\tsum += arr[i]\n",
    "\tstart, end = 0, sum\n",
    "\tresult = 10**9\n",
    "\twhile (start <= end):\n",
    "\t\tmid = (start + end) // 2\n",
    "\t\tif (isPossible(arr, n, m, mid)):\n",
    "\t\t\tresult = mid\n",
    "\t\t\tend = mid - 1\n",
    "\n",
    "\t\telse:\n",
    "\t\t\tstart = mid + 1\n",
    "\treturn result\n",
    "arr = [12, 34, 67, 90]\n",
    "n = len(arr)\n",
    "m = 2 \n",
    "\n",
    "print(\"Minimum number of pages = \",\n",
    "\tfindPages(arr, n, m))\n",
    "\n",
    "#Time complexity=O(nlogn)\n",
    "#space complexity=O(1)\n"
   ]
  }
 ],
 "metadata": {
  "language_info": {
   "name": "python"
  }
 },
 "nbformat": 4,
 "nbformat_minor": 2
}
