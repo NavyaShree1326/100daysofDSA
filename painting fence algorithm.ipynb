{
 "cells": [
  {
   "cell_type": "code",
   "execution_count": null,
   "metadata": {},
   "outputs": [],
   "source": [
    "def countWays(n, k):\n",
    "\t\n",
    "\tdp = [0] * (n + 1)\n",
    "\ttotal = k \n",
    "\tmod = 1000000007\n",
    "\t\n",
    "\tdp[1] = k\n",
    "\tdp[2] = k * k \n",
    "\t\n",
    "\tfor i in range(3,n+1):\n",
    "\t\tdp[i] = ((k - 1) * (dp[i - 1] + dp[i - 2])) % mod\n",
    "\t\t\n",
    "\treturn dp[n]\n",
    "\n",
    "n = 3\n",
    "k = 2\n",
    "print(countWays(n, k))\n",
    "\n",
    "#Time complexity=O(N)\n",
    "#Space complexity=O(N)\n"
   ]
  }
 ],
 "metadata": {
  "language_info": {
   "name": "python"
  }
 },
 "nbformat": 4,
 "nbformat_minor": 2
}
