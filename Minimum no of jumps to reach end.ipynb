{
 "cells": [
  {
   "cell_type": "code",
   "execution_count": null,
   "metadata": {},
   "outputs": [],
   "source": [
    "def minJumps(arr, l, h): \n",
    "\tif (h == l): \n",
    "\t\treturn 0\n",
    "\n",
    "\tif (arr[l] == 0): \n",
    "\t\treturn float('inf') \n",
    "\tmin = float('inf') \n",
    "\tfor i in range(l + 1, h + 1): \n",
    "\t\tif (i < l + arr[l] + 1): \n",
    "\t\t\tjumps = minJumps(arr, i, h) \n",
    "\t\t\tif (jumps != float('inf') and\n",
    "\t\t\t\t\tjumps + 1 < min): \n",
    "\t\t\t\tmin = jumps + 1\n",
    "\n",
    "\treturn min\n",
    "arr = [1, 3, 5, 8, 9, 2, 6, 7, 6, 8, 9] \n",
    "n = len(arr) \n",
    "print('Minimum number of jumps to reach', \n",
    "\t'end is', minJumps(arr, 0, n-1)) \n",
    "\n",
    "#Time complexity=O(n^n)\n",
    "#Space complexity=O(n)\n"
   ]
  }
 ],
 "metadata": {
  "language_info": {
   "name": "python"
  }
 },
 "nbformat": 4,
 "nbformat_minor": 2
}
