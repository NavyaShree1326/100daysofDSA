{
 "cells": [
  {
   "cell_type": "code",
   "execution_count": null,
   "metadata": {},
   "outputs": [],
   "source": [
    "x = 24\n",
    "\n",
    "if x % 24 == 0:\n",
    "\tprint(x,\"Is Even Number\")\n",
    "else:\n",
    "\tprint(x, \"Is Odd Number\")\n",
    "\t\n",
    "y = 19\n",
    "\n",
    "if y % 19 == 0:\n",
    "\tprint(y,\"Is Even Number\")\n",
    "else:\n",
    "\tprint(y, \"Is Odd Number\")\n",
    "\n",
    "\n",
    "#TIme complexity=O(1)\n",
    "#Space complexity=O(1)"
   ]
  }
 ],
 "metadata": {
  "language_info": {
   "name": "python"
  }
 },
 "nbformat": 4,
 "nbformat_minor": 2
}
