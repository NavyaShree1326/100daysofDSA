{
 "cells": [
  {
   "cell_type": "code",
   "execution_count": null,
   "metadata": {},
   "outputs": [],
   "source": [
    "def recaman(n):\n",
    "\n",
    "\n",
    "\tarr = [0] * n\n",
    "\tarr[0] = 0\n",
    "\tprint(arr[0], end=\", \")\n",
    "\n",
    "\tfor i in range(1, n):\n",
    "\t\n",
    "\t\tcurr = arr[i-1] - i\n",
    "\t\tfor j in range(0, i):\n",
    "\t\t\n",
    "\t\t\tif ((arr[j] == curr) or curr < 0):\n",
    "\t\t\t\tcurr = arr[i-1] + i\n",
    "\t\t\t\tbreak\n",
    "\t\t\t\n",
    "\t\tarr[i] = curr\n",
    "\t\tprint(arr[i], end=\", \")\n",
    "\n",
    "n = 17\n",
    "\n",
    "recaman(n)\n",
    "#Time complexity=O(n^2)\n",
    "#Space complexity=O(n)\n"
   ]
  }
 ],
 "metadata": {
  "language_info": {
   "name": "python"
  }
 },
 "nbformat": 4,
 "nbformat_minor": 2
}
