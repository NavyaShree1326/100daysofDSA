{
 "cells": [
  {
   "cell_type": "code",
   "execution_count": null,
   "metadata": {},
   "outputs": [],
   "source": [
    "from queue import Queue \n",
    "class newNode:\n",
    "\tdef __init__(self, data):\n",
    "\t\tself.data = data \n",
    "\t\tself.left = None\n",
    "\t\tself.right = None\n",
    "def maxNodeLevel(root):\n",
    "\tif (root == None): \n",
    "\t\treturn -1\n",
    "\n",
    "\tq = Queue() \n",
    "\tq.put(root) \n",
    "\tlevel = 0\n",
    "\tMax = -999999999999\n",
    "\tlevel_no = 0\n",
    "\twhile (1):\n",
    "\t\tNodeCount = q.qsize() \n",
    "\t\tif (NodeCount == 0):\n",
    "\t\t\tbreak\n",
    "\t\tif (NodeCount > Max):\n",
    "\t\t\tMax = NodeCount \n",
    "\t\t\tlevel_no = level\n",
    "\t\twhile (NodeCount > 0):\n",
    "\t\t\tNode = q.queue[0] \n",
    "\t\t\tq.get()\n",
    "\t\t\tif (Node.left != None):\n",
    "\t\t\t\tq.put(Node.left) \n",
    "\t\t\tif (Node.right != None): \n",
    "\t\t\t\tq.put(Node.right) \n",
    "\t\t\tNodeCount -= 1\n",
    "\t\tlevel += 1\n",
    "\n",
    "\treturn level_no\n",
    "if __name__ == '__main__':\n",
    "\troot = newNode(2)\t \t \n",
    "\troot.left\t = newNode(1)\t \n",
    "\troot.right\t = newNode(3)\t\t \n",
    "\troot.left.left = newNode(4)\t \n",
    "\troot.left.right = newNode(6) \n",
    "\troot.right.right = newNode(8)\t \n",
    "\troot.left.right.left = newNode(5) \n",
    "\n",
    "\tprint(\"Level having Maximum number of Nodes : \", \n",
    "\t\t\t\t\t\t\t\tmaxNodeLevel(root))\n",
    "\n",
    "#Time complexity=O(n)\n",
    "#Space complexity=O(n)\n"
   ]
  }
 ],
 "metadata": {
  "language_info": {
   "name": "python"
  }
 },
 "nbformat": 4,
 "nbformat_minor": 2
}
