{
 "cells": [
  {
   "cell_type": "code",
   "execution_count": null,
   "metadata": {},
   "outputs": [],
   "source": [
    "import sys\n",
    "\n",
    "MAX = 1000\n",
    "\n",
    "memo = [[-1 for i in range(MAX)] for j in range(MAX)]\n",
    "\n",
    "\n",
    "def solveEggDrop(n, k):\n",
    "\n",
    "\tif (memo[n][k] != -1):\n",
    "\t\treturn memo[n][k]\n",
    "\n",
    "\tif (k == 1 or k == 0):\n",
    "\t\treturn k\n",
    "\n",
    "\tif (n == 1):\n",
    "\t\treturn k\n",
    "\n",
    "\tmin = sys.maxsize\n",
    "\tres = 0\n",
    "\n",
    "\tfor x in range(1, k+1):\n",
    "\t\tres = max(solveEggDrop(n - 1, x - 1), solveEggDrop(n, k - x))\n",
    "\t\tif (res < min):\n",
    "\t\t\tmin = res\n",
    "\n",
    "\tmemo[n][k] = min + 1\n",
    "\treturn min + 1\n",
    "\n",
    "if __name__ == '__main__':\n",
    "\tn = 2\n",
    "\tk = 36\n",
    "\tprint(\"Minimum number of trials in worst case with \" , n, \" eggs and \", k, \" floors is \", solveEggDrop(n, k))\n",
    "\n",
    "#Time complexity=O(n*k*k)\n",
    "#Space complexity=O(n*k)\n"
   ]
  }
 ],
 "metadata": {
  "language_info": {
   "name": "python"
  }
 },
 "nbformat": 4,
 "nbformat_minor": 2
}
