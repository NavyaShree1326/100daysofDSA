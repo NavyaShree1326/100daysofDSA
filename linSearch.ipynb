{
 "cells": [
  {
   "cell_type": "code",
   "execution_count": null,
   "metadata": {},
   "outputs": [],
   "source": [
    "def search(arr, N, x): \n",
    "\n",
    "\tfor i in range(0, N): \n",
    "\t\tif (arr[i] == x): \n",
    "\t\t\treturn i \n",
    "\treturn -1\n",
    "\n",
    "if __name__ == \"__main__\": \n",
    "\tarr = [2, 3, 4, 10, 40] \n",
    "\tx = 10\n",
    "\tN = len(arr) \n",
    "\n",
    "\n",
    "\tresult = search(arr, N, x) \n",
    "\tif(result == -1): \n",
    "\t\tprint(\"Element is not present in array\") \n",
    "\telse: \n",
    "\t\tprint(\"Element is present at index\", result) \n",
    "#Time Complexity= Best Case:O(1)  Worst Case: O(N) Average Case: O(N)\n",
    " #Space complexity= O(1) "
   ]
  }
 ],
 "metadata": {
  "language_info": {
   "name": "python"
  }
 },
 "nbformat": 4,
 "nbformat_minor": 2
}
