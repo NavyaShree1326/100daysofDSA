{
 "cells": [
  {
   "cell_type": "code",
   "execution_count": 1,
   "metadata": {},
   "outputs": [],
   "source": [
    "from typing import Hashable,Mapping,Iterable,defaultdict\n",
    "class Solution:\n",
    "    def minReorder(self, n: int, connections: list[list[int]]) -> int:\n",
    "        T = Hashable\n",
    "        Direction = bool\n",
    "        Graph = Mapping[T, Iterable[tuple[T, Direction]]]\n",
    "\n",
    "        def min_flips(graph: Graph, u: T, parent: T | None = None) -> int:\n",
    "            return sum(min_flips(graph, v, u) + d for v, d in graph[u] if v != parent)\n",
    "\n",
    "        g = defaultdict(list)\n",
    "        for u, v in connections: g[u].append((v, True)); g[v].append((u, False))\n",
    "        return min_flips(g, 0)\n",
    "#Time complexity=O(n)\n",
    "#Space complexity=O(n)\n"
   ]
  }
 ],
 "metadata": {
  "kernelspec": {
   "display_name": "Python 3",
   "language": "python",
   "name": "python3"
  },
  "language_info": {
   "codemirror_mode": {
    "name": "ipython",
    "version": 3
   },
   "file_extension": ".py",
   "mimetype": "text/x-python",
   "name": "python",
   "nbconvert_exporter": "python",
   "pygments_lexer": "ipython3",
   "version": "3.11.4"
  }
 },
 "nbformat": 4,
 "nbformat_minor": 2
}
