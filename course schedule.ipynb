{
 "cells": [
  {
   "cell_type": "code",
   "execution_count": null,
   "metadata": {},
   "outputs": [],
   "source": [
    "from typing import List\n",
    "from typing import defaultdict\n",
    "from typing import Counter\n",
    "from typing import deque\n",
    "\n",
    "class Solution:\n",
    "    def canFinish(self, numCourses: int, prerequisites: List[List[int]]) -> bool:\n",
    "        indegree = Counter()\n",
    "        adj = defaultdict(list)\n",
    "\n",
    "        for [a, b] in prerequisites:\n",
    "            adj[b].append(a)\n",
    "            indegree[a] += 1\n",
    "        que = deque()\n",
    "        for course in range(numCourses):\n",
    "            if indegree[course] == 0:\n",
    "                que.append(course)\n",
    "        nodeVisited = 0\n",
    "        while que:\n",
    "            course = que.popleft()\n",
    "            nodeVisited += 1\n",
    "\n",
    "            for dep in adj[course]:\n",
    "                indegree[dep] -= 1\n",
    "                if indegree[dep] == 0:\n",
    "                    que.append(dep)\n",
    "        return nodeVisited == numCourses\n",
    "#Time complexity=O(V+E)\n",
    "#Space complexity=O(V+E)"
   ]
  }
 ],
 "metadata": {
  "language_info": {
   "name": "python"
  }
 },
 "nbformat": 4,
 "nbformat_minor": 2
}
