{
 "cells": [
  {
   "cell_type": "code",
   "execution_count": null,
   "metadata": {},
   "outputs": [],
   "source": [
    "class Evaluate:\n",
    "\n",
    "\tdef __init__(self, capacity):\n",
    "\t\tself.top = -1\n",
    "\t\tself.capacity = capacity\n",
    "\t\t\n",
    "\t\tself.array = []\n",
    "\n",
    "\tdef isEmpty(self):\n",
    "\t\treturn True if self.top == -1 else False\n",
    "\n",
    "\tdef peek(self):\n",
    "\t\treturn self.array[-1]\n",
    "\n",
    "\tdef pop(self):\n",
    "\t\tif not self.isEmpty():\n",
    "\t\t\tself.top -= 1\n",
    "\t\t\treturn self.array.pop()\n",
    "\t\telse:\n",
    "\t\t\treturn \"$\"\n",
    "\n",
    "\tdef push(self, op):\n",
    "\t\tself.top += 1\n",
    "\t\tself.array.append(op)\n",
    "\n",
    "\tdef evaluatePostfix(self, exp):\n",
    "\t\tfor i in exp:\n",
    "\t\t\tif i.isdigit():\n",
    "\t\t\t\tself.push(i)\n",
    "\t\t\telse:\n",
    "\t\t\t\tval1 = self.pop()\n",
    "\t\t\t\tval2 = self.pop()\n",
    "\t\t\t\tself.push(str(eval(val2 + i + val1)))\n",
    "\t\treturn int(self.pop())\n",
    "\n",
    "if __name__ == '__main__':\n",
    "\texp = \"231*+9-\"\n",
    "\tobj = Evaluate(len(exp))\n",
    "\n",
    "\tprint(\"postfix evaluation: %d\" % (obj.evaluatePostfix(exp)))\n",
    "\n",
    "\t\n",
    "\n"
   ]
  }
 ],
 "metadata": {
  "language_info": {
   "name": "python"
  }
 },
 "nbformat": 4,
 "nbformat_minor": 2
}
