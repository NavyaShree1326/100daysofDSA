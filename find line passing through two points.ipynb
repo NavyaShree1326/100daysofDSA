{
 "cells": [
  {
   "cell_type": "code",
   "execution_count": null,
   "metadata": {},
   "outputs": [],
   "source": [
    "def lineFromPoints(P, Q):\n",
    "\n",
    "\ta = Q[1] - P[1]\n",
    "\tb = P[0] - Q[0]\n",
    "\tc = a*(P[0]) + b*(P[1])\n",
    "\n",
    "\tif(b < 0):\n",
    "\t\tprint(\"The line passing through points P and Q is:\",\n",
    "\t\t\ta, \"x - \", b, \"y = \", c, \"\\n\")\n",
    "\telse:\n",
    "\t\tprint(\"The line passing through points P and Q is: \",\n",
    "\t\t\ta, \"x + \", b, \"y = \", c, \"\\n\")\n",
    "\n",
    "if __name__ == '__main__':\n",
    "\tP = [3, 2]\n",
    "\tQ = [2, 6]\n",
    "\tlineFromPoints(P, Q)\n",
    "\n",
    "#Time complexity=O(1)\n",
    "#Space complexity=O(1)\n"
   ]
  }
 ],
 "metadata": {
  "language_info": {
   "name": "python"
  }
 },
 "nbformat": 4,
 "nbformat_minor": 2
}
