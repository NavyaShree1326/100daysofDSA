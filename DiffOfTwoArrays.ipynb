{
 "cells": [
  {
   "cell_type": "code",
   "execution_count": 3,
   "metadata": {},
   "outputs": [
    {
     "name": "stdout",
     "output_type": "stream",
     "text": [
      "[[1, 3], [4, 6]]\n",
      "[[3], []]\n"
     ]
    }
   ],
   "source": [
    "class Solution:\n",
    "    def findDifference(self, nums1, nums2):\n",
    "        set1, set2 = set(nums1), set(nums2)\n",
    "        return [list(set1 - set2), list(set2 - set1)]\n",
    "\n",
    "nums1_1, nums2_1 = [1, 2, 3], [2, 4, 6]\n",
    "solution_1 = Solution()\n",
    "output_1 = solution_1.findDifference(nums1_1, nums2_1)\n",
    "print(output_1)  \n",
    "\n",
    "nums1_2, nums2_2 = [1, 2, 3, 3], [1, 1, 2, 2]\n",
    "solution_2 = Solution()\n",
    "output_2 = solution_2.findDifference(nums1_2, nums2_2)\n",
    "print(output_2)\n",
    " \n",
    "#time complexity=O(max(n,m))\n",
    "#Space complexity=O(n+m)\n",
    "\n",
    "\n",
    "\n",
    "\n",
    "\n",
    "\n",
    "\n",
    "\n",
    "\n",
    "\n",
    "\n",
    "\n",
    "\n",
    "\n",
    "\n",
    "\n",
    "\n",
    "\n",
    "\n",
    "\n",
    "\n",
    "\n",
    "\n",
    "\n",
    "\n",
    "\n",
    "\n",
    "\n",
    "\n",
    "\n",
    "\n",
    "\n",
    "\n",
    "\n",
    "\n",
    "\n",
    "\n",
    "\n",
    "\n",
    "\n",
    "\n",
    "\n",
    "\n",
    "\n",
    "\n",
    "\n",
    "\n",
    "\n",
    "\n",
    "\n",
    "\n",
    "\n",
    "\n",
    "\n",
    "\n",
    "        "
   ]
  }
 ],
 "metadata": {
  "kernelspec": {
   "display_name": "Python 3",
   "language": "python",
   "name": "python3"
  },
  "language_info": {
   "codemirror_mode": {
    "name": "ipython",
    "version": 3
   },
   "file_extension": ".py",
   "mimetype": "text/x-python",
   "name": "python",
   "nbconvert_exporter": "python",
   "pygments_lexer": "ipython3",
   "version": "3.11.4"
  }
 },
 "nbformat": 4,
 "nbformat_minor": 2
}
