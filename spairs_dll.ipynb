{
 "cells": [
  {
   "cell_type": "code",
   "execution_count": 1,
   "metadata": {},
   "outputs": [
    {
     "name": "stdout",
     "output_type": "stream",
     "text": [
      "( 1 , 6 )\n",
      "( 2 , 5 )\n"
     ]
    }
   ],
   "source": [
    "class Node: \n",
    "\t\n",
    "\tdef __init__(self, x): \n",
    "\t\t\n",
    "\t\tself.data = x \n",
    "\t\tself.next = None\n",
    "\t\tself.prev = None\n",
    "def pairSum(head, x): \n",
    "\tfirst = head \n",
    "\tsecond = head \n",
    "\t\n",
    "\twhile (second.next != None): \n",
    "\t\tsecond = second.next\n",
    "\tfound = False\n",
    "\twhile (first != second and second.next != first): \n",
    "\t\t\t\n",
    "\t\tif ((first.data + second.data) == x): \n",
    "\t\t\tfound = True\n",
    "\t\t\tprint(\"(\", first.data, \",\", \n",
    "\t\t\t\t\tsecond.data, \")\") \n",
    "\t\t\t\n",
    "\t\t\tfirst = first.next\n",
    "\t\t\t\n",
    "\t\t\tsecond = second.prev \n",
    "\t\telse: \n",
    "\t\t\tif ((first.data + second.data) < x): \n",
    "\t\t\t\tfirst = first.next\n",
    "\t\t\telse: \n",
    "\t\t\t\tsecond = second.prev \n",
    "\tif (found == False): \n",
    "\t\tprint(\"No pair found\") \n",
    "\t\t\n",
    "def insert(head, data): \n",
    "\t\n",
    "\ttemp = Node(data) \n",
    "\t\n",
    "\tif not head: \n",
    "\t\thead = temp \n",
    "\telse: \n",
    "\t\ttemp.next = head \n",
    "\t\thead.prev = temp \n",
    "\t\thead = temp \n",
    "\t\t\n",
    "\treturn head \n",
    "\n",
    "if __name__ == '__main__': \n",
    "\t\n",
    "\thead = None\n",
    "\thead = insert(head, 9) \n",
    "\thead = insert(head, 8) \n",
    "\thead = insert(head, 6) \n",
    "\thead = insert(head, 5) \n",
    "\thead = insert(head, 4) \n",
    "\thead = insert(head, 2) \n",
    "\thead = insert(head, 1) \n",
    "\tx = 7\n",
    "\n",
    "\tpairSum(head, x) \n",
    "#Time complexity=O(n)\n",
    "#Space complexity=O(1)"
   ]
  }
 ],
 "metadata": {
  "kernelspec": {
   "display_name": "Python 3",
   "language": "python",
   "name": "python3"
  },
  "language_info": {
   "codemirror_mode": {
    "name": "ipython",
    "version": 3
   },
   "file_extension": ".py",
   "mimetype": "text/x-python",
   "name": "python",
   "nbconvert_exporter": "python",
   "pygments_lexer": "ipython3",
   "version": "3.11.4"
  }
 },
 "nbformat": 4,
 "nbformat_minor": 2
}
