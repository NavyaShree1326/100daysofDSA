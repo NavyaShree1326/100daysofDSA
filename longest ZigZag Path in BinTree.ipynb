{
 "cells": [
  {
   "cell_type": "code",
   "execution_count": null,
   "metadata": {},
   "outputs": [],
   "source": [
    "from typing import Optional\n",
    "class TreeNode:\n",
    "     def __init__(self, val=0, left=None, right=None):\n",
    "         self.val = val\n",
    "         self.left = left\n",
    "         self.right = right\n",
    "\n",
    "class Solution:\n",
    "    def dfs(self, tree, h=0, state=None):\n",
    "        if tree is None:\n",
    "            self.max_h = max(h, self.max_h)\n",
    "            return\n",
    "        \n",
    "        self.dfs(tree.left, h+1 if state==\"right\" else 0, \"left\")\n",
    "        self.dfs(tree.right, h+1 if state==\"left\" else 0, \"right\")\n",
    "        \n",
    "\n",
    "    def longestZigZag(self, root: Optional[TreeNode]) -> int:\n",
    "        self.max_h = 0\n",
    "        self.dfs(root)\n",
    "        return self.max_h\n",
    "#Time complexity=O(n)\n",
    "#Space complexity=O(1)"
   ]
  }
 ],
 "metadata": {
  "language_info": {
   "name": "python"
  }
 },
 "nbformat": 4,
 "nbformat_minor": 2
}
