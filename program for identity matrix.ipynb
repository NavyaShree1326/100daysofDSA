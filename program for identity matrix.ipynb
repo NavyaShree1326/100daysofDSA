{
 "cells": [
  {
   "cell_type": "code",
   "execution_count": null,
   "metadata": {},
   "outputs": [],
   "source": [
    "MAX = 100; \n",
    "def isIdentity(mat, N): \n",
    "\tfor row in range(N): \n",
    "\t\tfor col in range(N): \n",
    "\t\t\tif (row == col and\n",
    "\t\t\t\tmat[row][col] != 1): \n",
    "\t\t\t\treturn False; \n",
    "\t\t\telif (row != col and\n",
    "\t\t\t\tmat[row][col] != 0): \n",
    "\t\t\t\treturn False; \n",
    "\treturn True; \n",
    "N = 4; \n",
    "mat = [[1, 0, 0, 0], \n",
    "\t[0, 1, 0, 0], \n",
    "\t[0, 0, 1, 0], \n",
    "\t[0, 0, 0, 1]]; \n",
    "if (isIdentity(mat, N)): \n",
    "\tprint(\"Yes \"); \n",
    "else: \n",
    "\tprint(\"No \"); \n",
    "\n",
    "#Time complexity=O(row*col)\n",
    "#Space complexity=O(1)\n"
   ]
  }
 ],
 "metadata": {
  "language_info": {
   "name": "python"
  }
 },
 "nbformat": 4,
 "nbformat_minor": 2
}
