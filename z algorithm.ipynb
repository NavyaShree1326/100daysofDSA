{
 "cells": [
  {
   "cell_type": "code",
   "execution_count": null,
   "metadata": {},
   "outputs": [],
   "source": [
    "def getZarr(string, z):\n",
    "\tn = len(string)\n",
    "\tl, r, k = 0, 0, 0\n",
    "\tfor i in range(1, n):\n",
    "\t\tif i > r:\n",
    "\t\t\tl, r = i, i\n",
    "\t\t\twhile r < n and string[r - l] == string[r]:\n",
    "\t\t\t\tr += 1\n",
    "\t\t\tz[i] = r - l\n",
    "\t\t\tr -= 1\n",
    "\t\telse:\n",
    "\t\t\tk = i - l\n",
    "\t\t\tif z[k] < r - i + 1:\n",
    "\t\t\t\tz[i] = z[k]\n",
    "\t\t\telse:\n",
    "\t\t\t\tl = i\n",
    "\t\t\t\twhile r < n and string[r - l] == string[r]:\n",
    "\t\t\t\t\tr += 1\n",
    "\t\t\t\tz[i] = r - l\n",
    "\t\t\t\tr -= 1\n",
    "def search(text, pattern):\n",
    "\tconcat = pattern + \"$\" + text\n",
    "\tl = len(concat)\n",
    "\tz = [0] * l\n",
    "\tgetZarr(concat, z)\n",
    "\tfor i in range(l):\n",
    "\t\tif z[i] == len(pattern):\n",
    "\t\t\tprint(\"Pattern found at index\", \n",
    "\t\t\t\t\ti - len(pattern) - 1)\n",
    "if __name__ == \"__main__\":\n",
    "\ttext = \"GEEKS FOR GEEKS\"\n",
    "\tpattern = \"GEEK\"\n",
    "\tsearch(text, pattern)\n",
    "#Time complexity=O(m+n)\n",
    "#Space complexity=O(n)\n"
   ]
  }
 ],
 "metadata": {
  "language_info": {
   "name": "python"
  }
 },
 "nbformat": 4,
 "nbformat_minor": 2
}
