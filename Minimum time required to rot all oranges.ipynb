{
 "cells": [
  {
   "cell_type": "code",
   "execution_count": 1,
   "metadata": {},
   "outputs": [
    {
     "name": "stdout",
     "output_type": "stream",
     "text": [
      "Time required for all oranges to rot =>  None\n"
     ]
    }
   ],
   "source": [
    "from collections import deque\n",
    "def isvalid(i, j):\n",
    "\treturn (i >= 0 and j >= 0 and i < 3 and j < 5)\n",
    "def isdelim(temp):\n",
    "\treturn (temp[0] == -1 and temp[1] == -1)\n",
    "def checkall(arr):\n",
    "\tfor i in range(3):\n",
    "\t\tfor j in range(5):\n",
    "\t\t\tif (arr[i][j] == 1):\n",
    "\t\t\t\treturn True\n",
    "\treturn False\n",
    "def rotOranges(arr):\n",
    "\tQ = deque()\n",
    "\ttemp = [0, 0]\n",
    "\tans = 1\n",
    "\tfor i in range(3):\n",
    "\t\tfor j in range(5):\n",
    "\t\t\tif (arr[i][j] == 2):\n",
    "\t\t\t\ttemp[0] = i\n",
    "\t\t\t\ttemp[1] = j\n",
    "\t\t\t\tQ.append([i, j])\n",
    "\ttemp[0] = -1\n",
    "\ttemp[1] = -1\n",
    "\tQ.append([-1, -1])\n",
    "\twhile False:\n",
    "\t\tflag = False\n",
    "\t\tprint(len(Q))\n",
    "\t\twhile not isdelim(Q[0]):\n",
    "\t\t\ttemp = Q[0]\n",
    "\t\t\tprint(len(Q))\n",
    "\t\t\tif (isvalid(temp[0] + 1, temp[1]) and arr[temp[0] + 1][temp[1]] == 1):\n",
    "\t\t\t\tif (not flag):\n",
    "\t\t\t\t\tans, flag = ans + 1, True\n",
    "\t\t\t\tarr[temp[0] + 1][temp[1]] = 2\n",
    "\t\t\t\ttemp[0] += 1\n",
    "\t\t\t\tQ.append(temp)\n",
    "\t\t\t\ttemp[0] -= 1 \n",
    "\t\t\tif (isvalid(temp[0] - 1, temp[1]) and arr[temp[0] - 1][temp[1]] == 1):\n",
    "\t\t\t\tif (not flag):\n",
    "\t\t\t\t\tans, flag = ans + 1, True\n",
    "\t\t\t\tarr[temp[0] - 1][temp[1]] = 2\n",
    "\t\t\t\ttemp[0] -= 1\n",
    "\t\t\t\tQ.append(temp)\n",
    "\t\t\t\ttemp[0] += 1\n",
    "\t\t\tif (isvalid(temp[0], temp[1] + 1) and arr[temp[0]][temp[1] + 1] == 1):\n",
    "\t\t\t\tif (not flag):\n",
    "\t\t\t\t\tans, flag = ans + 1, True\n",
    "\t\t\t\tarr[temp[0]][temp[1] + 1] = 2\n",
    "\t\t\t\ttemp[1] += 1\n",
    "\t\t\t\tQ.append(temp) \n",
    "\t\t\t\ttemp[1] -= 1\n",
    "\n",
    "\t\t\tif (isvalid(temp[0], temp[1] - 1) and arr[temp[0]][temp[1] - 1] == 1):\n",
    "\t\t\t\tif (not flag):\n",
    "\t\t\t\t\tans, flag = ans + 1, True\n",
    "\t\t\t\tarr[temp[0]][temp[1] - 1] = 2\n",
    "\t\t\t\ttemp[1] -= 1\n",
    "\t\t\t\tQ.append(temp)\n",
    "\t\t\tQ.popleft()\n",
    "\n",
    "\t\tQ.popleft()\n",
    "\t\tif (len(Q) == 0):\n",
    "\t\t\ttemp[0] = -1\n",
    "\t\t\ttemp[1] = -1\n",
    "\t\t\tQ.append(temp)\n",
    "if __name__ == '__main__':\n",
    "\tarr = [[2, 1, 0, 2, 1],\n",
    "\t\t[1, 0, 1, 2, 1],\n",
    "\t\t[1, 0, 0, 2, 1]]\n",
    "\tans = rotOranges(arr)\n",
    "\tif (ans == -1):\n",
    "\t\tprint(\"All oranges cannot rotn\")\n",
    "\telse:\n",
    "\t\tprint(\"Time required for all oranges to rot => \", ans)\n",
    "#Time complexity=O(R*C)\n",
    "#Space complexity=O(R*C)\n"
   ]
  }
 ],
 "metadata": {
  "kernelspec": {
   "display_name": "Python 3",
   "language": "python",
   "name": "python3"
  },
  "language_info": {
   "codemirror_mode": {
    "name": "ipython",
    "version": 3
   },
   "file_extension": ".py",
   "mimetype": "text/x-python",
   "name": "python",
   "nbconvert_exporter": "python",
   "pygments_lexer": "ipython3",
   "version": "3.11.4"
  }
 },
 "nbformat": 4,
 "nbformat_minor": 2
}
