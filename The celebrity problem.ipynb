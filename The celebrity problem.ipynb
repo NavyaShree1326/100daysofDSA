{
 "cells": [
  {
   "cell_type": "code",
   "execution_count": null,
   "metadata": {},
   "outputs": [],
   "source": [
    "def celebrity(M, n):\n",
    "\tadj = [[] for i in range(n)]\n",
    "\tfor i in range(n):\n",
    "\t\tfor j in range(n):\n",
    "\t\t\tif M[i][j] == 1:\n",
    "\t\t\t\tadj[i].append(j)\n",
    "\tfor i in range(n):\n",
    "\t\tif not adj[i]:\n",
    "\t\t\tflag = True\n",
    "\t\t\tfor j in range(n):\n",
    "\t\t\t\tif i == j:\n",
    "\t\t\t\t\tcontinue\n",
    "\t\t\t\tif i not in adj[j]:\n",
    "\t\t\t\t\tflag = False\n",
    "\t\t\t\t\tbreak\n",
    "\t\t\tif flag:\n",
    "\t\t\t\treturn i\n",
    "\treturn -1\n",
    "\n",
    "M = [[0, 0, 1, 0], [0, 0, 1, 0], [0, 0, 0, 0], [0, 0, 1, 0]]\n",
    "n = len(M)\n",
    "Celebrity = celebrity(M, n)\n",
    "if Celebrity != -1:\n",
    "\tprint(\"Celebrity is : \", Celebrity)\n",
    "else:\n",
    "\tprint(\"No celebrity\")\n",
    "#Time complexity=O(n^2)\n",
    "#Space complexity=O(n)"
   ]
  }
 ],
 "metadata": {
  "language_info": {
   "name": "python"
  }
 },
 "nbformat": 4,
 "nbformat_minor": 2
}
