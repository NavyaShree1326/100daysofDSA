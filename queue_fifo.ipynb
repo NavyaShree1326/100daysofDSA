{
 "cells": [
  {
   "cell_type": "code",
   "execution_count": 7,
   "metadata": {},
   "outputs": [
    {
     "name": "stdout",
     "output_type": "stream",
     "text": [
      "The elemets in the queue are\n",
      "['a', 'b', 'c']\n",
      "['b', 'c']\n",
      "['c']\n",
      "\n",
      "Queue after removing elements\n",
      "[]\n"
     ]
    }
   ],
   "source": [
    "queue = [] \n",
    "  \n",
    "\n",
    "queue.append('a') \n",
    "queue.append('b') \n",
    "queue.append('c') \n",
    "  \n",
    "print(\"The elemets in the queue are\") \n",
    "print(queue) \n",
    "  \n",
    " \n",
    "queue.pop(0)\n",
    "print(queue)\n",
    "queue.pop(0)\n",
    "print(queue)\n",
    "queue.pop(0)\n",
    "  \n",
    "print(\"\\nQueue after removing elements\") \n",
    "print(queue) "
   ]
  }
 ],
 "metadata": {
  "kernelspec": {
   "display_name": "Python 3",
   "language": "python",
   "name": "python3"
  },
  "language_info": {
   "codemirror_mode": {
    "name": "ipython",
    "version": 3
   },
   "file_extension": ".py",
   "mimetype": "text/x-python",
   "name": "python",
   "nbconvert_exporter": "python",
   "pygments_lexer": "ipython3",
   "version": "3.11.4"
  }
 },
 "nbformat": 4,
 "nbformat_minor": 2
}
