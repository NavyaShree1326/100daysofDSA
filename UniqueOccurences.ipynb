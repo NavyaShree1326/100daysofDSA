{
 "cells": [
  {
   "cell_type": "code",
   "execution_count": null,
   "metadata": {},
   "outputs": [],
   "source": [
    "def uniqueOccurrences(arr):\n",
    "    count_dict = {}\n",
    "    for num in arr:\n",
    "        if num in count_dict:\n",
    "            count_dict[num] += 1\n",
    "        else:\n",
    "            count_dict[num] = 1\n",
    "    occurrences_set = set(count_dict.values())\n",
    "    return len(occurrences_set) == len(count_dict)\n",
    "arr1 = [1, 2, 2, 1, 1, 3]\n",
    "arr2 = [1, 2]\n",
    "arr3 = [-3, 0, 1, -3, 1, 1, 1, -3, 10, 0]\n",
    "\n",
    "print(uniqueOccurrences(arr1))  \n",
    "print(uniqueOccurrences(arr2))  \n",
    "print(uniqueOccurrences(arr3))  \n",
    "\n",
    "#Time complexity=O(n)\n",
    "#Spcae complexity=O(n)\n"
   ]
  }
 ],
 "metadata": {
  "language_info": {
   "name": "python"
  }
 },
 "nbformat": 4,
 "nbformat_minor": 2
}
