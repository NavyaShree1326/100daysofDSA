{
 "cells": [
  {
   "cell_type": "code",
   "execution_count": null,
   "metadata": {},
   "outputs": [],
   "source": [
    "from typing import List\n",
    "class Solution:\n",
    "    def productExceptSelf(self, nums: List[int]) -> List[int]:\n",
    "        n = len(nums)\n",
    "        prefix_product = 1\n",
    "        postfix_product = 1\n",
    "        result = [0]*n\n",
    "        for i in range(n):\n",
    "            result[i] = prefix_product\n",
    "            prefix_product *= nums[i]\n",
    "        for i in range(n-1,-1,-1):\n",
    "            result[i] *= postfix_product\n",
    "            postfix_product *= nums[i]\n",
    "        return result\n",
    "#time complexity=O(n)\n",
    "#Space complexity=O(n)"
   ]
  }
 ],
 "metadata": {
  "language_info": {
   "name": "python"
  }
 },
 "nbformat": 4,
 "nbformat_minor": 2
}
