{
 "cells": [
  {
   "cell_type": "code",
   "execution_count": null,
   "metadata": {},
   "outputs": [],
   "source": [
    "def dfsUtil(node, count):\n",
    "\tglobal visited, x, maxCount, adj\n",
    "\tvisited[node] = 1\n",
    "\tcount += 1\n",
    "\tfor i in adj[node]:\n",
    "\t\tif (visited[i] == 0):\n",
    "\t\t\tif (count >= maxCount):\n",
    "\t\t\t\tmaxCount = count\n",
    "\t\t\t\tx = i\n",
    "\t\t\tdfsUtil(i, count)\n",
    "def dfs(node, n):\n",
    "\tcount = 0\n",
    "\tfor i in range(n + 1):\n",
    "\t\tvisited[i] = 0\n",
    "\tdfsUtil(node, count + 1)\n",
    "def diameter(n):\n",
    "\tglobal adj, maxCount\n",
    "\tdfs(1, n)\n",
    "\tdfs(x, n)\n",
    "\treturn maxCount\n",
    "if __name__ == '__main__':\n",
    "\tn = 5\n",
    "\tadj, visited = [[] for i in range(n + 1)], [0 for i in range(n + 1)]\n",
    "\tmaxCount = -10**19\n",
    "\tx = 0\n",
    "\tadj[1].append(2)\n",
    "\tadj[2].append(1)\n",
    "\tadj[1].append(3)\n",
    "\tadj[3].append(1)\n",
    "\tadj[2].append(4)\n",
    "\tadj[4].append(2)\n",
    "\tadj[2].append(5)\n",
    "\tadj[5].append(2)\n",
    "\tprint (\"Diameter of the given tree is \", diameter(n))\n",
    "\t#Time complexity=O(n)\n",
    "\t#SPace complexity=O(n)\n"
   ]
  }
 ],
 "metadata": {
  "language_info": {
   "name": "python"
  }
 },
 "nbformat": 4,
 "nbformat_minor": 2
}
