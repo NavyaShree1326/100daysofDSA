{
 "cells": [
  {
   "cell_type": "code",
   "execution_count": 1,
   "metadata": {},
   "outputs": [
    {
     "name": "stdout",
     "output_type": "stream",
     "text": [
      "Root Node is:\n",
      "50\n",
      "left child of the node is:\n",
      "20\n",
      "right child of the node is:\n",
      "45\n"
     ]
    }
   ],
   "source": [
    "class BinaryTreeNode:\n",
    "    def __init__(self, data):\n",
    "        self.data = data\n",
    "        self.leftChild = None\n",
    "        self.rightChild = None\n",
    "\n",
    "\n",
    "node1 = BinaryTreeNode(50)\n",
    "node2 = BinaryTreeNode(20)\n",
    "node3 = BinaryTreeNode(45)\n",
    "node4 = BinaryTreeNode(11)\n",
    "node5 = BinaryTreeNode(15)\n",
    "node6 = BinaryTreeNode(30)\n",
    "node7 = BinaryTreeNode(78)\n",
    "\n",
    "node1.leftChild = node2\n",
    "node1.rightChild = node3\n",
    "node2.leftChild = node4\n",
    "node2.rightChild = node5\n",
    "node3.leftChild = node6\n",
    "node3.rightChild = node7\n",
    "\n",
    "print(\"Root Node is:\")\n",
    "print(node1.data)\n",
    "\n",
    "print(\"left child of the node is:\")\n",
    "print(node1.leftChild.data)\n",
    "\n",
    "print(\"right child of the node is:\")\n",
    "print(node1.rightChild.data)"
   ]
  }
 ],
 "metadata": {
  "kernelspec": {
   "display_name": "Python 3",
   "language": "python",
   "name": "python3"
  },
  "language_info": {
   "codemirror_mode": {
    "name": "ipython",
    "version": 3
   },
   "file_extension": ".py",
   "mimetype": "text/x-python",
   "name": "python",
   "nbconvert_exporter": "python",
   "pygments_lexer": "ipython3",
   "version": "3.11.4"
  }
 },
 "nbformat": 4,
 "nbformat_minor": 2
}
