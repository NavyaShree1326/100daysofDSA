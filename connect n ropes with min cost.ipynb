{
 "cells": [
  {
   "cell_type": "code",
   "execution_count": null,
   "metadata": {},
   "outputs": [],
   "source": [
    "import heapq\n",
    "\n",
    "\n",
    "def minCost(arr, n):\n",
    "\theapq.heapify(arr)\n",
    "\tres = 0\n",
    "\twhile(len(arr) > 1):\n",
    "\t\tfirst = heapq.heappop(arr)\n",
    "\t\tsecond = heapq.heappop(arr)\n",
    "\n",
    "\t\tres += first + second\n",
    "\t\theapq.heappush(arr, first + second)\n",
    "\n",
    "\treturn res\n",
    "if __name__ == '__main__':\n",
    "\n",
    "\tlengths = [4, 3, 2, 6]\n",
    "\tsize = len(lengths)\n",
    "\n",
    "\tprint(\"Total cost for connecting ropes is \" +\n",
    "\t\tstr(minCost(lengths, size)))\n",
    "#Time complexity=O(n*logn)\n",
    "#Space complexity=O(n)\n",
    "\n"
   ]
  }
 ],
 "metadata": {
  "language_info": {
   "name": "python"
  }
 },
 "nbformat": 4,
 "nbformat_minor": 2
}
