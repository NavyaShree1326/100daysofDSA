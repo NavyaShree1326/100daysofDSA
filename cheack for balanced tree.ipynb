{
 "cells": [
  {
   "cell_type": "code",
   "execution_count": 1,
   "metadata": {},
   "outputs": [
    {
     "name": "stdout",
     "output_type": "stream",
     "text": [
      "Tree is not balanced\n"
     ]
    }
   ],
   "source": [
    "class Node:\n",
    "\tdef __init__(self, data):\n",
    "\t\tself.data = data\n",
    "\t\tself.left = None\n",
    "\t\tself.right = None\n",
    "def height(root):\n",
    "\tif root is None:\n",
    "\t\treturn 0\n",
    "\treturn max(height(root.left), height(root.right)) + 1\n",
    "def isBalanced(root):\n",
    "\tif root is None:\n",
    "\t\treturn True\n",
    "\tlh = height(root.left)\n",
    "\trh = height(root.right)\n",
    "\tif (abs(lh - rh) <= 1) and isBalanced(\n",
    "\t\t\troot.left) is True and isBalanced(root.right) is True:\n",
    "\t\treturn True\n",
    "\treturn False\n",
    "\n",
    "root = Node(1)\n",
    "root.left = Node(2)\n",
    "root.right = Node(3)\n",
    "root.left.left = Node(4)\n",
    "root.left.right = Node(5)\n",
    "root.left.left.left = Node(8)\n",
    "if isBalanced(root):\n",
    "\tprint(\"Tree is balanced\")\n",
    "else:\n",
    "\tprint(\"Tree is not balanced\")\n",
    "\n",
    "#Time complexity=O(n^2)\n",
    "#Space complexity=O(n)\n"
   ]
  }
 ],
 "metadata": {
  "kernelspec": {
   "display_name": "Python 3",
   "language": "python",
   "name": "python3"
  },
  "language_info": {
   "codemirror_mode": {
    "name": "ipython",
    "version": 3
   },
   "file_extension": ".py",
   "mimetype": "text/x-python",
   "name": "python",
   "nbconvert_exporter": "python",
   "pygments_lexer": "ipython3",
   "version": "3.11.4"
  }
 },
 "nbformat": 4,
 "nbformat_minor": 2
}
