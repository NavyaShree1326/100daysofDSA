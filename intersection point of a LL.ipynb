{
 "cells": [
  {
   "cell_type": "code",
   "execution_count": null,
   "metadata": {},
   "outputs": [],
   "source": [
    "class Node :\n",
    "\tdef __init__(self, d):\n",
    "\t\tself.data = d;\n",
    "\t\tself.next = None;\n",
    "\n",
    "def Print(n):\n",
    "\tcur = n;\n",
    "\twhile (cur != None) :\n",
    "\t\tprint(cur.data, end=\" \");\n",
    "\t\tcur = cur.next;\n",
    "\tprint(\"\");\n",
    "\n",
    "\n",
    "def MegeNode(n1, n2):\n",
    "\t\n",
    "\ths = set();\n",
    "\n",
    "\twhile (n1 != None):\n",
    "\t\ths.add(n1);\n",
    "\t\tn1 = n1.next;\n",
    "\twhile (n2 != None):\n",
    "\t\tif (n2 in hs):\n",
    "\t\t\treturn n2;\n",
    "\t\tn2 = n2.next;\n",
    "\t\n",
    "\treturn None;\n",
    "\n",
    "n1 = Node(1);\n",
    "n1.next = Node(2);\n",
    "n1.next.next = Node(3);\n",
    "n1.next.next.next = Node(4);\n",
    "n1.next.next.next.next = Node(5);\n",
    "n1.next.next.next.next.next = Node(6);\n",
    "n1.next.next.next.next.next.next = Node(7);\n",
    "\n",
    "\n",
    "n2 = Node(10);\n",
    "n2.next = Node(9);\n",
    "n2.next.next = Node(8);\n",
    "n2.next.next.next = n1.next.next.next;\n",
    "\n",
    "Print(n1);\n",
    "Print(n2);\n",
    "\n",
    "print(MegeNode(n1, n2).data);\n",
    "#Time complexity=O(n)\n",
    "#SPace complexity=O(n)\n",
    "\n"
   ]
  }
 ],
 "metadata": {
  "language_info": {
   "name": "python"
  }
 },
 "nbformat": 4,
 "nbformat_minor": 2
}
