{
 "cells": [
  {
   "cell_type": "code",
   "execution_count": null,
   "metadata": {},
   "outputs": [],
   "source": [
    "from typing import List\n",
    "class Solution:\n",
    "    def combinationSum3(self, k: int, n: int) -> List[List[int]]:\n",
    "      data = [i for i in range(1,10)]\n",
    "      res = []\n",
    "      path = []\n",
    "\n",
    "      def backtrack(index, count):\n",
    "        if count == n and len(path) == k:\n",
    "          res.append(path.copy())\n",
    "          return\n",
    "        \n",
    "        if index >= len(data):\n",
    "          return\n",
    "        \n",
    "        for i in range(index, len(data)):\n",
    "          path.append(data[i])\n",
    "          backtrack(i+1, count + data[i])\n",
    "          path.pop()\n",
    "      \n",
    "      backtrack(0,0)\n",
    "\n",
    "      return res\n",
    "#Time complexity=O(2^n)\n",
    "#Space complexity=O(n)"
   ]
  }
 ],
 "metadata": {
  "language_info": {
   "name": "python"
  }
 },
 "nbformat": 4,
 "nbformat_minor": 2
}
