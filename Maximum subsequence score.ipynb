{
 "cells": [
  {
   "cell_type": "code",
   "execution_count": null,
   "metadata": {},
   "outputs": [],
   "source": [
    "from typing import List\n",
    "import heapq\n",
    "class Solution:\n",
    "    def maxScore(self, nums1: List[int], nums2: List[int], k: int) -> int:\n",
    "        lst=list(zip(nums2,nums1))\n",
    "        lst.sort(key=lambda x:(-x[0],-x[1]))\n",
    "        flst=[]\n",
    "        heapq.heapify(flst)\n",
    "        i=0\n",
    "        sm=0\n",
    "        ef=float(\"infinity\")\n",
    "        prd=float(\"-infinity\")\n",
    "        while i<k:\n",
    "            x=lst.pop(0)\n",
    "            heapq.heappush(flst,x[1])\n",
    "            ef=min(ef,x[0])\n",
    "            sm+=x[1]\n",
    "            i+=1\n",
    "        prd=max(prd,sm*ef)\n",
    "        while lst:\n",
    "            x=heapq.heappop(flst)\n",
    "            sm-=x\n",
    "            y=lst.pop(0)\n",
    "            heapq.heappush(flst,y[1])\n",
    "            ef=min(ef,y[0])\n",
    "            sm+=y[1]\n",
    "            prd=max(prd,sm*ef)\n",
    "        return prd\n",
    "#Time complexity=O(nlogn)\n",
    "#Space complexity=O(n*2)"
   ]
  }
 ],
 "metadata": {
  "language_info": {
   "name": "python"
  }
 },
 "nbformat": 4,
 "nbformat_minor": 2
}
