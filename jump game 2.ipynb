{
 "cells": [
  {
   "cell_type": "code",
   "execution_count": null,
   "metadata": {},
   "outputs": [],
   "source": [
    "from typing import List\n",
    "class Solution:\n",
    "  def jump(self, nums: List[int]) -> int:\n",
    "    ans = 0\n",
    "    end = 0\n",
    "    farthest = 0\n",
    "\n",
    "    # Implicit BFS\n",
    "    for i in range(len(nums) - 1):\n",
    "      farthest = max(farthest, i + nums[i])\n",
    "      if farthest >= len(nums) - 1:\n",
    "        ans += 1\n",
    "        break\n",
    "      if i == end:     \n",
    "        ans += 1        \n",
    "        end = farthest \n",
    "    return ans\n",
    "#time complexity=O(n)\n",
    "#Space complexity=O(1)"
   ]
  }
 ],
 "metadata": {
  "language_info": {
   "name": "python"
  }
 },
 "nbformat": 4,
 "nbformat_minor": 2
}
