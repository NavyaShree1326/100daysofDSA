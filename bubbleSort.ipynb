{
 "cells": [
  {
   "cell_type": "code",
   "execution_count": null,
   "metadata": {},
   "outputs": [],
   "source": [
    "def bubbleSort(arr):\n",
    "\tn = len(arr)\n",
    "\t\n",
    "\tfor i in range(n):\n",
    "\t\tswapped = False\n",
    "\n",
    "\t\tfor j in range(0, n-i-1):\n",
    "\n",
    "\t\t\tif arr[j] > arr[j+1]:\n",
    "\t\t\t\tarr[j], arr[j+1] = arr[j+1], arr[j]\n",
    "\t\t\t\tswapped = True\n",
    "\t\tif (swapped == False):\n",
    "\t\t\tbreak\n",
    "\n",
    "if __name__ == \"__main__\":\n",
    "\tarr = [64, 34, 25, 12, 22, 11, 90]\n",
    "\n",
    "\tbubbleSort(arr)\n",
    "\n",
    "\tprint(\"Sorted array:\")\n",
    "\tfor i in range(len(arr)):\n",
    "\t\tprint(\"%d\" % arr[i], end=\" \")\n",
    "#Time complexity=O(N^2)\n",
    "#space complexity=O(1)\n"
   ]
  }
 ],
 "metadata": {
  "language_info": {
   "name": "python"
  }
 },
 "nbformat": 4,
 "nbformat_minor": 2
}
