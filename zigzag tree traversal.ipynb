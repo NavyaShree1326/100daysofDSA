{
 "cells": [
  {
   "cell_type": "code",
   "execution_count": null,
   "metadata": {},
   "outputs": [],
   "source": [
    "class Node:\n",
    "\tdef __init__(self, data):\n",
    "\t\tself.data = data\n",
    "\t\tself.left = self.right = None\n",
    "def zigzagtraversal(root):\n",
    "\tif root is None:\n",
    "\t\treturn\n",
    "\tcurrentLevel = []\n",
    "\tnextLevel = []\n",
    "\tltr = True\n",
    "\tcurrentLevel.append(root)\n",
    "\n",
    "\twhile len(currentLevel) > 0:\n",
    "\t\ttemp = currentLevel.pop(-1)\n",
    "\t\tprint(temp.data, \" \", end=\"\")\n",
    "\n",
    "\t\tif ltr:\n",
    "\t\t\tif temp.left:\n",
    "\t\t\t\tnextLevel.append(temp.left)\n",
    "\t\t\tif temp.right:\n",
    "\t\t\t\tnextLevel.append(temp.right)\n",
    "\t\telse:\n",
    "\t\t\tif temp.right:\n",
    "\t\t\t\tnextLevel.append(temp.right)\n",
    "\t\t\tif temp.left:\n",
    "\t\t\t\tnextLevel.append(temp.left)\n",
    "\n",
    "\t\tif len(currentLevel) == 0:\n",
    "\t\t\tltr = not ltr\n",
    "\t\t\tcurrentLevel, nextLevel = nextLevel, currentLevel\n",
    "root = Node(1)\n",
    "root.left = Node(2)\n",
    "root.right = Node(3)\n",
    "root.left.left = Node(7)\n",
    "root.left.right = Node(6)\n",
    "root.right.left = Node(5)\n",
    "root.right.right = Node(4)\n",
    "print(\"Zigzag Order traversal of binary tree is\")\n",
    "zigzagtraversal(root)\n",
    "\n",
    "#Time complexity=O(n)\n",
    "#Space complexity=O(n)\n"
   ]
  }
 ],
 "metadata": {
  "language_info": {
   "name": "python"
  }
 },
 "nbformat": 4,
 "nbformat_minor": 2
}
