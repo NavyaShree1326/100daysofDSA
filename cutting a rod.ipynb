{
 "cells": [
  {
   "cell_type": "code",
   "execution_count": null,
   "metadata": {},
   "outputs": [],
   "source": [
    "def cutRod(price, index, n):\n",
    "\t\n",
    "\tif index == 0:\n",
    "\t\treturn n*price[0]\n",
    "\n",
    "\tnotCut = cutRod(price,index - 1,n)\n",
    "\tcut = float(\"-inf\")\n",
    "\trod_length = index + 1\n",
    "\n",
    "\tif (rod_length <= n):\n",
    "\t\t\n",
    "\t\tcut = price[index]+cutRod(price,index,n - rod_length)\n",
    "\n",
    "\treturn max(notCut, cut)\n",
    "\n",
    "arr = [ 1, 5, 8, 9, 10, 17, 17, 20 ]\n",
    "size = len(arr)\n",
    "print(\"Maximum Obtainable Value is \",cutRod(arr, size - 1, size))\n",
    "\n",
    "#time complexity=O(2^n)\n",
    "#space complexity=O(n)\n"
   ]
  }
 ],
 "metadata": {
  "language_info": {
   "name": "python"
  }
 },
 "nbformat": 4,
 "nbformat_minor": 2
}
