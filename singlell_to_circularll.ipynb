{
 "cells": [
  {
   "cell_type": "code",
   "execution_count": 1,
   "metadata": {},
   "outputs": [
    {
     "name": "stdout",
     "output_type": "stream",
     "text": [
      "Display List:\n",
      "17 22 13 14 15 "
     ]
    }
   ],
   "source": [
    "import sys\n",
    "\n",
    "class Node:\n",
    "\tdef __init__(self,data):\n",
    "\t\tself.data = data\n",
    "\t\tself.next = None\n",
    "\n",
    "def push(head, data):\n",
    "\tif not head:\n",
    "\t\treturn Node(data)\n",
    "\n",
    "\tnewNode = Node(data)\n",
    "\n",
    "\n",
    "\tnewNode.next = head\n",
    "\n",
    "\t \n",
    "\thead = newNode\n",
    "\treturn head\n",
    "\n",
    "def circular(head):\n",
    "\n",
    "\tstart = head\n",
    "\n",
    "\t\n",
    "\twhile(head.next is not None):\n",
    "\t\thead = head.next\n",
    "\n",
    "\t\t \n",
    "\thead.next = start\n",
    "\treturn start\n",
    "\n",
    "def displayList(node):\n",
    "\tstart = node\n",
    "\twhile(node.next is not start):\n",
    "\t\tprint(\"{} \".format(node.data),end=\"\")\n",
    "\t\tnode=node.next\n",
    "\t\t\n",
    "\tprint(\"{} \".format(node.data),end=\"\")\n",
    "\n",
    "\n",
    "if __name__=='__main__':\n",
    "\n",
    "\thead=None\n",
    "\n",
    "\thead=push(head,15)\n",
    "\thead=push(head,14)\n",
    "\thead=push(head,13)\n",
    "\thead=push(head,22)\n",
    "\thead=push(head,17)\n",
    "\t\n",
    "\tcircular(head)\n",
    "\tprint(\"Display List:\")\n",
    "\tdisplayList(head)\n",
    "\n",
    "\n",
    "#time complexity=O(n)\n",
    "#space complexity=O(n)"
   ]
  }
 ],
 "metadata": {
  "kernelspec": {
   "display_name": "Python 3",
   "language": "python",
   "name": "python3"
  },
  "language_info": {
   "codemirror_mode": {
    "name": "ipython",
    "version": 3
   },
   "file_extension": ".py",
   "mimetype": "text/x-python",
   "name": "python",
   "nbconvert_exporter": "python",
   "pygments_lexer": "ipython3",
   "version": "3.11.4"
  }
 },
 "nbformat": 4,
 "nbformat_minor": 2
}
