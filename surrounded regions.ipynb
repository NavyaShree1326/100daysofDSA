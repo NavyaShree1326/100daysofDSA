{
 "cells": [
  {
   "cell_type": "code",
   "execution_count": null,
   "metadata": {},
   "outputs": [],
   "source": [
    "class Solution:\n",
    "    def solve(self, board: List[List[str]]) -> None:\n",
    "        rows, cols = len(board), len(board[0])\n",
    "\n",
    "        def capture(r, c):\n",
    "            if r < 0 or c < 0 or r == rows or c == cols or board[r][c] != \"O\":\n",
    "                return\n",
    "            board[r][c] = \"T\"\n",
    "            capture(r + 1, c)\n",
    "            capture(r - 1, c)\n",
    "            capture(r, c + 1)\n",
    "            capture(r, c - 1)\n",
    "\n",
    "        for r in range(rows):\n",
    "            for c in range(cols):\n",
    "                if board[r][c] == \"O\" and (r in [0, rows - 1] or c in [0, cols - 1]):\n",
    "                    capture(r, c)\n",
    "\n",
    "        for r in range(rows):\n",
    "            for c in range(cols):\n",
    "                if board[r][c] == \"O\":\n",
    "                    board[r][c] = \"X\"\n",
    "\n",
    "        for r in range(rows):\n",
    "            for c in range(cols):\n",
    "                if board[r][c] == \"T\":\n",
    "                    board[r][c] = \"O\"\n",
    "#Time complexity=O(M*N)\n",
    "#Space complexity=O(1)"
   ]
  }
 ],
 "metadata": {
  "language_info": {
   "name": "python"
  }
 },
 "nbformat": 4,
 "nbformat_minor": 2
}
