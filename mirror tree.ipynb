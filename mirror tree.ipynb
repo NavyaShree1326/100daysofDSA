{
 "cells": [
  {
   "cell_type": "code",
   "execution_count": null,
   "metadata": {},
   "outputs": [],
   "source": [
    "class newNode:\n",
    "\tdef __init__(self, data):\n",
    "\t\tself.data = data\n",
    "\t\tself.left = None\n",
    "\t\tself.right = None\n",
    "\n",
    "def mirror(root):\n",
    "\n",
    "\tif (root == None):\n",
    "\t\treturn\n",
    "\n",
    "\tq = []\n",
    "\tq.append(root)\n",
    "\twhile (len(q)):\n",
    "\n",
    "\t\tcurr = q[0]\n",
    "\t\tq.pop(0)\n",
    "\n",
    "\t\tcurr.left, curr.right = curr.right, curr.left\n",
    "\n",
    "\t\tif (curr.left):\n",
    "\t\t\tq.append(curr.left)\n",
    "\t\tif (curr.right):\n",
    "\t\t\tq.append(curr.right)\n",
    "\n",
    "def inOrder(node):\n",
    "\tif (node == None):\n",
    "\t\treturn\n",
    "\tinOrder(node.left)\n",
    "\tprint(node.data, end=\" \")\n",
    "\tinOrder(node.right)\n",
    "\n",
    "root = newNode(1)\n",
    "root.left = newNode(2)\n",
    "root.right = newNode(3)\n",
    "root.left.left = newNode(4)\n",
    "root.left.right = newNode(5)\n",
    "\n",
    "print(\"Inorder traversal of the constructed tree is\")\n",
    "inOrder(root)\n",
    "\n",
    "mirror(root)\n",
    "\n",
    "print(\"\\nInorder traversal of the mirror tree is\")\n",
    "inOrder(root)\n",
    "#Time complexity=O(n)\n",
    "#Spacee complexity=O(n)\n",
    "\n"
   ]
  }
 ],
 "metadata": {
  "language_info": {
   "name": "python"
  }
 },
 "nbformat": 4,
 "nbformat_minor": 2
}
