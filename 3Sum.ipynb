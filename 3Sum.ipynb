{
 "cells": [
  {
   "cell_type": "code",
   "execution_count": null,
   "metadata": {},
   "outputs": [],
   "source": [
    "class Solution:\n",
    "    def threeSum(self, nums: List[int]) -> List[List[int]]:\n",
    "        n = len(nums)\n",
    "        nums.sort()\n",
    "        ans = []\n",
    "        mySet = set()\n",
    "\n",
    "        for i in range(n):\n",
    "            j = i + 1\n",
    "            k = n - 1\n",
    "\n",
    "            while j < k:\n",
    "                total = nums[i] + nums[j] + nums[k]\n",
    "\n",
    "                if total == 0:\n",
    "                    temp = [nums[i], nums[j], nums[k]]\n",
    "                    mySet.add(tuple(temp))\n",
    "                    j += 1\n",
    "                    k -= 1\n",
    "                elif total < 0:\n",
    "                    j += 1\n",
    "                elif total > 0:\n",
    "                    k -= 1\n",
    "\n",
    "        for x in mySet:\n",
    "            ans.append(list(x))\n",
    "        return ans\n",
    "    #time complexity=O(n^2)\n",
    "    #Space complexity=O(n)"
   ]
  }
 ],
 "metadata": {
  "language_info": {
   "name": "python"
  }
 },
 "nbformat": 4,
 "nbformat_minor": 2
}
