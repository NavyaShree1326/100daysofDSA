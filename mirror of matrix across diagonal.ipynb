{
 "cells": [
  {
   "cell_type": "code",
   "execution_count": null,
   "metadata": {},
   "outputs": [],
   "source": [
    "# Efficient Python3 program to find mirror of\n",
    "# matrix across diagonal.\n",
    "from builtins import range\n",
    "MAX = 100;\n",
    "\n",
    "def imageSwap(mat, n):\n",
    "\n",
    "\t# traverse a matrix and swap\n",
    "\t# mat[i][j] with mat[j][i]\n",
    "\tfor i in range(n):\n",
    "\t\tfor j in range(i + 1):\n",
    "\t\t\tt = mat[i][j];\n",
    "\t\t\tmat[i][j] = mat[j][i]\n",
    "\t\t\tmat[j][i] = t\n",
    "\n",
    "# Utility function to print a matrix\n",
    "def printMatrix(mat, n):\n",
    "\tfor i in range(n):\n",
    "\t\tfor j in range(n):\n",
    "\t\t\tprint(mat[i][j], end=\" \");\n",
    "\t\tprint();\n",
    "\n",
    "# Driver code\n",
    "if __name__ == '__main__':\n",
    "\tmat = [1, 2, 3, 4], \\\n",
    "\t\t[5, 6, 7, 8], \\\n",
    "\t\t[9, 10, 11, 12], \\\n",
    "\t\t[13, 14, 15, 16];\n",
    "\tn = 4;\n",
    "\timageSwap(mat, n);\n",
    "\tprintMatrix(mat, n);\n",
    "\n",
    "#TIme complexity=O(n^2)\n",
    "#Space complexity=O(1)\n"
   ]
  }
 ],
 "metadata": {
  "language_info": {
   "name": "python"
  }
 },
 "nbformat": 4,
 "nbformat_minor": 2
}
