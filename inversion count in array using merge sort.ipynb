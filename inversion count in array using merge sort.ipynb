{
 "cells": [
  {
   "cell_type": "code",
   "execution_count": null,
   "metadata": {},
   "outputs": [],
   "source": [
    "def getInvCount(arr, n):\n",
    "\n",
    "\tinv_count = 0\n",
    "\tfor i in range(n):\n",
    "\t\tfor j in range(i + 1, n):\n",
    "\t\t\tif (arr[i] > arr[j]):\n",
    "\t\t\t\tinv_count += 1\n",
    "\n",
    "\treturn inv_count\n",
    "\n",
    "arr = [1, 20, 6, 4, 5]\n",
    "n = len(arr)\n",
    "print(\"Number of inversions are\",\n",
    "\tgetInvCount(arr, n))\n",
    "\n",
    "#Time complexity=O(n^2)\n",
    "#Space complexity=O(1)\n"
   ]
  }
 ],
 "metadata": {
  "language_info": {
   "name": "python"
  }
 },
 "nbformat": 4,
 "nbformat_minor": 2
}
