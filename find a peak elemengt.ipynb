{
 "cells": [
  {
   "cell_type": "code",
   "execution_count": null,
   "metadata": {},
   "outputs": [],
   "source": [
    "def findPeakUtil(arr, low, high, n):\n",
    "\tmid = low + (high - low)/2\n",
    "\tmid = int(mid)\n",
    "\n",
    "\tif ((mid == 0 or arr[mid - 1] <= arr[mid]) and\n",
    "\t\t(mid == n - 1 or arr[mid + 1] <= arr[mid])):\n",
    "\t\treturn mid\n",
    "\n",
    "\telif (mid > 0 and arr[mid - 1] > arr[mid]):\n",
    "\t\treturn findPeakUtil(arr, low, (mid - 1), n)\n",
    "\n",
    "\telse:\n",
    "\t\treturn findPeakUtil(arr, (mid + 1), high, n)\n",
    "\n",
    "def findPeak(arr, n):\n",
    "\n",
    "\treturn findPeakUtil(arr, 0, n - 1, n)\n",
    "\n",
    "arr = [1, 3, 20, 4, 1, 0]\n",
    "n = len(arr)\n",
    "print(\"Index of a peak point is\", findPeak(arr, n))\n",
    "#Time complexity=O(logN)\n",
    "#Space complexity=O(logN)\n"
   ]
  }
 ],
 "metadata": {
  "language_info": {
   "name": "python"
  }
 },
 "nbformat": 4,
 "nbformat_minor": 2
}
