{
 "cells": [
  {
   "cell_type": "code",
   "execution_count": null,
   "metadata": {},
   "outputs": [],
   "source": [
    "class Solution:\n",
    "    def maxArea(self, height):\n",
    "        left = 0          \n",
    "        right = len(height) - 1  \n",
    "        maxWater = 0               \n",
    "        while left < right:\n",
    "            width = right - left\n",
    "            \n",
    "            h = min(height[left], height[right])\n",
    "            \n",
    "            water = width * h\n",
    "            \n",
    "            maxWater = max(maxWater, water)\n",
    "        \n",
    "            if height[left] < height[right]:\n",
    "                left += 1\n",
    "            else:\n",
    "                right -= 1\n",
    "        \n",
    "        return maxWater\n",
    "    \n",
    "#Time complexity=O(n)\n",
    "#Spcae complexity=O(1)"
   ]
  }
 ],
 "metadata": {
  "language_info": {
   "name": "python"
  }
 },
 "nbformat": 4,
 "nbformat_minor": 2
}
