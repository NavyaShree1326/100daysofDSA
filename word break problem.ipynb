{
 "cells": [
  {
   "cell_type": "code",
   "execution_count": null,
   "metadata": {},
   "outputs": [],
   "source": [
    "def wordBreak(word):\n",
    "\t\n",
    "\tglobal dictionary\n",
    "\n",
    "\tsize = len(word)\n",
    "\tif (size == 0):\n",
    "\t\treturn True\n",
    "\n",
    "\tfor i in range(1,size + 1):\n",
    "\n",
    "\t\tif (word[0:i] in dictionary and wordBreak(word[i: size])):\n",
    "\t\t\treturn True\n",
    "\treturn False\n",
    "dictionary = set() \n",
    "temp_dictionary = [ \"mobile\", \"samsung\", \"sam\", \"sung\", \"man\", \"mango\", \"icecream\", \"and\", \"go\", \"i\",\"like\", \"ice\", \"cream\" ]\n",
    "\n",
    "for temp in temp_dictionary:\n",
    "\tdictionary.add(temp)\n",
    "\n",
    "print(\"Yes\" if wordBreak(\"ilikesamsung\") else \"No\")\n",
    "print(\"Yes\" if wordBreak(\"iiiiiiii\") else \"No\")\n",
    "print(\"Yes\" if wordBreak(\"\") else \"No\")\n",
    "print(\"Yes\" if wordBreak(\"ilikelikeimangoiii\") else \"No\")\n",
    "print(\"Yes\" if wordBreak(\"samsungandmango\") else \"No\")\n",
    "print(\"Yes\" if wordBreak(\"samsungandmangok\") else \"No\")\n",
    "\n",
    "#Time complexity=O(2^n)\n",
    "#Space complexity=O(n)"
   ]
  }
 ],
 "metadata": {
  "language_info": {
   "name": "python"
  }
 },
 "nbformat": 4,
 "nbformat_minor": 2
}
