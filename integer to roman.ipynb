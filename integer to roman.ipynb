{
 "cells": [
  {
   "cell_type": "code",
   "execution_count": null,
   "metadata": {},
   "outputs": [],
   "source": [
    "class Solution:\n",
    "    def intToRoman(self, num: int) -> str:       \n",
    "        num_map = {\n",
    "            1: \"I\",\n",
    "            5: \"V\",    4: \"IV\",\n",
    "            10: \"X\",   9: \"IX\",\n",
    "            50: \"L\",   40: \"XL\",\n",
    "            100: \"C\",  90: \"XC\",\n",
    "            500: \"D\",  400: \"CD\",\n",
    "            1000: \"M\", 900: \"CM\",\n",
    "        }\n",
    "        \n",
    "        r = ''\n",
    "    \n",
    "        for n in [1000, 900, 500, 400, 100, 90, 50, 40, 10, 9, 5, 4, 1]:\n",
    "            while n <= num:\n",
    "                r += num_map[n]\n",
    "                num-=n\n",
    "        return r\n",
    "#Time complexity=O(1)\n",
    "#Space complexity=O(1)"
   ]
  }
 ],
 "metadata": {
  "language_info": {
   "name": "python"
  }
 },
 "nbformat": 4,
 "nbformat_minor": 2
}
