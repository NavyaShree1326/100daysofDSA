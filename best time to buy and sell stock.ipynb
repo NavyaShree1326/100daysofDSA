{
 "cells": [
  {
   "cell_type": "code",
   "execution_count": null,
   "metadata": {},
   "outputs": [],
   "source": [
    "class Solution:\n",
    "    def maxProfit(self, prices: List[int]) -> int:\n",
    "        \n",
    "        cur_hold, cur_not_hold = -float('inf'), 0\n",
    "        \n",
    "        for stock_price in prices:\n",
    "            \n",
    "            prev_hold, prev_not_hold = cur_hold, cur_not_hold\n",
    "    \n",
    "            cur_hold = max( prev_hold, prev_not_hold - stock_price )\n",
    "\t\t\t\n",
    "            cur_not_hold = max( prev_not_hold, prev_hold + stock_price )\n",
    "\n",
    "        return cur_not_hold\n",
    "    #Time complexity=O(n)\n",
    "    #Space complexity=O(1)"
   ]
  }
 ],
 "metadata": {
  "language_info": {
   "name": "python"
  }
 },
 "nbformat": 4,
 "nbformat_minor": 2
}
