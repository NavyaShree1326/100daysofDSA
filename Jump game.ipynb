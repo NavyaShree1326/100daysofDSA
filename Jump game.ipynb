{
 "cells": [
  {
   "cell_type": "code",
   "execution_count": null,
   "metadata": {},
   "outputs": [],
   "source": [
    "from typing import List\n",
    "class Solution:\n",
    "    def canJump(self, nums: List[int]) -> bool:\n",
    "        goal = len(nums)-1\n",
    "\n",
    "        for i in range(len(nums)-2,-1,-1):\n",
    "            if i+nums[i] >= goal:\n",
    "                goal = i\n",
    "\n",
    "        return True if goal == 0 else False\n",
    "#Time complexity=O(n)\n",
    "#Space complexity=O(1)"
   ]
  }
 ],
 "metadata": {
  "language_info": {
   "name": "python"
  }
 },
 "nbformat": 4,
 "nbformat_minor": 2
}
