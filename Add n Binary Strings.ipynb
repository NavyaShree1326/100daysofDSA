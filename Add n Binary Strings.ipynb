{
 "cells": [
  {
   "cell_type": "code",
   "execution_count": null,
   "metadata": {},
   "outputs": [],
   "source": [
    "def addBinaryUtil(a, b):\n",
    "\t\n",
    "\tresult = \"\"; \n",
    "\ts = 0;\t\n",
    "\ti = len(a) - 1;\n",
    "\tj = len(b) - 1;\n",
    "\twhile (i >= 0 or j >= 0 or s == 1):\n",
    "\n",
    "\t\ts += (ord(a[i]) - ord('0')) if(i >= 0) else 0;\n",
    "\t\ts += (ord(b[j]) - ord('0')) if(j >= 0) else 0;\n",
    "\t\tresult = chr(s % 2 + ord('0')) + result;\n",
    "\t\ts //= 2;\n",
    "\t\ti -= 1;\n",
    "\t\tj -= 1;\n",
    "\n",
    "\treturn result;\n",
    "def addBinary(arr, n):\n",
    "\tresult = \"\";\n",
    "\tfor i in range(n):\n",
    "\t\tresult = addBinaryUtil(result, arr[i]);\n",
    "\treturn result;\n",
    "arr = [\"1\", \"10\", \"11\"];\n",
    "n = len(arr);\n",
    "print(addBinary(arr, n));\n",
    "\t\n",
    "#Time complexity=O(n)\n",
    "#SPace complexity=O(n)\n"
   ]
  }
 ],
 "metadata": {
  "language_info": {
   "name": "python"
  }
 },
 "nbformat": 4,
 "nbformat_minor": 2
}
