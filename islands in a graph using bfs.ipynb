{
 "cells": [
  {
   "cell_type": "code",
   "execution_count": null,
   "metadata": {},
   "outputs": [],
   "source": [
    "from collections import deque\n",
    "def isSafe(mat, i, j, vis):\n",
    "\t\n",
    "\treturn ((i >= 0) and (i < 5) and\n",
    "\t\t\t(j >= 0) and (j < 5) and\n",
    "\t\t(mat[i][j] and (not vis[i][j])))\n",
    "\n",
    "def BFS(mat, vis, si, sj):\n",
    "\trow = [-1, -1, -1, 0, 0, 1, 1, 1]\n",
    "\tcol = [-1, 0, 1, -1, 1, -1, 0, 1]\n",
    "\tq = deque()\n",
    "\tq.append([si, sj])\n",
    "\tvis[si][sj] = True\n",
    "\twhile (len(q) > 0):\n",
    "\t\ttemp = q.popleft()\n",
    "\n",
    "\t\ti = temp[0]\n",
    "\t\tj = temp[1]\n",
    "\t\tfor k in range(8):\n",
    "\t\t\tif (isSafe(mat, i + row[k], j + col[k], vis)):\n",
    "\t\t\t\tvis[i + row[k]][j + col[k]] = True\n",
    "\t\t\t\tq.append([i + row[k], j + col[k]])\n",
    "def countIslands(mat):\n",
    "\tvis = [[False for i in range(5)] \n",
    "\t\t\t\tfor i in range(5)]\n",
    "\tres = 0\n",
    "\tfor i in range(5):\n",
    "\t\tfor j in range(5):\n",
    "\t\t\tif (mat[i][j] and not vis[i][j]):\n",
    "\t\t\t\tBFS(mat, vis, i, j)\n",
    "\t\t\t\tres += 1\n",
    "\treturn res\n",
    "if __name__ == '__main__':\n",
    "\tmat = [ [ 1, 1, 0, 0, 0 ],\n",
    "\t\t\t[ 0, 1, 0, 0, 1 ],\n",
    "\t\t\t[ 1, 0, 0, 1, 1 ],\n",
    "\t\t\t[ 0, 0, 0, 0, 0 ],\n",
    "\t\t\t[ 1, 0, 1, 0, 1 ]]\n",
    "\tprint (countIslands(mat))\n",
    "#time complexity=O(row*col)\n",
    "#SPace complexity=O(row*col)\n"
   ]
  }
 ],
 "metadata": {
  "language_info": {
   "name": "python"
  }
 },
 "nbformat": 4,
 "nbformat_minor": 2
}
