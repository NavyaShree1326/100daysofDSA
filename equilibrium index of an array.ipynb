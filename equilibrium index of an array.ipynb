{
 "cells": [
  {
   "cell_type": "code",
   "execution_count": null,
   "metadata": {},
   "outputs": [],
   "source": [
    "def equilibrium(arr):\n",
    "\tleftsum = 0\n",
    "\trightsum = 0\n",
    "\tn = len(arr)\n",
    "\n",
    "\n",
    "\tfor i in range(n):\n",
    "\t\tleftsum = 0\n",
    "\t\trightsum = 0\n",
    "\t\tfor j in range(i):\n",
    "\t\t\tleftsum += arr[j]\n",
    "\t\tfor j in range(i + 1, n):\n",
    "\t\t\trightsum += arr[j]\n",
    "\t\tif leftsum == rightsum:\n",
    "\t\t\treturn i\n",
    "\treturn -1\n",
    "if __name__ == \"__main__\":\n",
    "\tarr = [-7, 1, 5, 2, -4, 3, 0]\n",
    "\tprint(equilibrium(arr))\n",
    "\n",
    "#Time complexity=O(n^2)\n",
    "#Space complexity=O(1)\n"
   ]
  }
 ],
 "metadata": {
  "language_info": {
   "name": "python"
  }
 },
 "nbformat": 4,
 "nbformat_minor": 2
}
