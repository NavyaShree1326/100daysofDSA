{
 "cells": [
  {
   "cell_type": "code",
   "execution_count": null,
   "metadata": {},
   "outputs": [],
   "source": [
    "def insertionSort(arr):\n",
    "\n",
    "\tfor i in range(1, len(arr)):\n",
    "\n",
    "\t\tkey = arr[i]\n",
    "\t\tj = i-1\n",
    "\t\twhile j >= 0 and key < arr[j] :\n",
    "\t\t\t\tarr[j + 1] = arr[j]\n",
    "\t\t\t\tj -= 1\n",
    "\t\tarr[j + 1] = key\n",
    "\n",
    "arr = [12, 11, 13, 5, 6]\n",
    "insertionSort(arr)\n",
    "for i in range(len(arr)):\n",
    "\tprint (\"% d\" % arr[i])\n",
    "\n",
    "#Time cmplexity=O(N^2)\n",
    "#Space complexity=O(1)\n",
    "\n"
   ]
  }
 ],
 "metadata": {
  "language_info": {
   "name": "python"
  }
 },
 "nbformat": 4,
 "nbformat_minor": 2
}
