{
 "cells": [
  {
   "cell_type": "code",
   "execution_count": null,
   "metadata": {},
   "outputs": [],
   "source": [
    "class Solution():\n",
    "\tdef __init__(self):\n",
    "\t\tpass\n",
    "\tdef printItinerary(self,d):\n",
    "\t\treverse_d = dict()\n",
    "\t\tfor i in d:\n",
    "\t\t\treverse_d[d[i]] = i\n",
    "\t\tfor i in reverse_d:\n",
    "\t\t\tif reverse_d[i] not in reverse_d:\n",
    "\t\t\t\tstarting_pt = reverse_d[i]\n",
    "\t\t\t\tbreak;\n",
    "\t\twhile(starting_pt in d):\n",
    "\t\t\tprint(starting_pt,\"->\",d[starting_pt],end=\", \")\n",
    "\t\t\tstarting_pt = d[starting_pt]\n",
    "if __name__==\"__main__\":\n",
    "\td = dict()\n",
    "\td[\"Chennai\"] = \"Banglore\"\n",
    "\td[\"Bombay\"] = \"Delhi\"\n",
    "\td[\"Goa\"] = \"Chennai\"\n",
    "\td[\"Delhi\"] = \"Goa\"\n",
    "\tobj = Solution()\n",
    "\tobj.printItinerary(d)\n",
    "#Time complexity=O(n)\n",
    "#Space complexity=O(n)"
   ]
  }
 ],
 "metadata": {
  "language_info": {
   "name": "python"
  }
 },
 "nbformat": 4,
 "nbformat_minor": 2
}
