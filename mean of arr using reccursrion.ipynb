{
 "cells": [
  {
   "cell_type": "code",
   "execution_count": null,
   "metadata": {},
   "outputs": [],
   "source": [
    "def findMean(A, N): \n",
    "\n",
    "\tif (N == 1): \n",
    "\t\treturn A[N - 1] \n",
    "\telse: \n",
    "\t\treturn ((findMean(A, N - 1) *\n",
    "\t\t\t\t(N - 1) + A[N - 1]) / N) \n",
    "\n",
    "Mean = 0\n",
    "A = [1, 2, 3, 4, 5] \n",
    "N = len(A) \n",
    "print(findMean(A, N)) \n",
    "#Time complexity=O(n)\n",
    "#Space complexity=O(n)\n",
    "\n"
   ]
  }
 ],
 "metadata": {
  "language_info": {
   "name": "python"
  }
 },
 "nbformat": 4,
 "nbformat_minor": 2
}
