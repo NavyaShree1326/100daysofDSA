{
 "cells": [
  {
   "cell_type": "code",
   "execution_count": 2,
   "metadata": {},
   "outputs": [
    {
     "ename": "ImportError",
     "evalue": "cannot import name 'maxint' from 'sys' (unknown location)",
     "output_type": "error",
     "traceback": [
      "\u001b[1;31m---------------------------------------------------------------------------\u001b[0m",
      "\u001b[1;31mImportError\u001b[0m                               Traceback (most recent call last)",
      "Cell \u001b[1;32mIn[2], line 1\u001b[0m\n\u001b[1;32m----> 1\u001b[0m \u001b[38;5;28;01mfrom\u001b[39;00m \u001b[38;5;21;01msys\u001b[39;00m \u001b[38;5;28;01mimport\u001b[39;00m maxint\n\u001b[0;32m      2\u001b[0m \u001b[38;5;28;01mdef\u001b[39;00m \u001b[38;5;21mmaxSubArraySum\u001b[39m(a, size):\n\u001b[0;32m      4\u001b[0m \tmax_so_far \u001b[38;5;241m=\u001b[39m \u001b[38;5;241m-\u001b[39mmaxint \u001b[38;5;241m-\u001b[39m \u001b[38;5;241m1\u001b[39m\n",
      "\u001b[1;31mImportError\u001b[0m: cannot import name 'maxint' from 'sys' (unknown location)"
     ]
    }
   ],
   "source": [
    "from sys import maxint\n",
    "def maxSubArraySum(a, size):\n",
    "\n",
    "\tmax_so_far = -maxint - 1\n",
    "\tmax_ending_here = 0\n",
    "\n",
    "\tfor i in range(0, size):\n",
    "\t\tmax_ending_here = max_ending_here + a[i]\n",
    "\t\tif (max_so_far < max_ending_here):\n",
    "\t\t\tmax_so_far = max_ending_here\n",
    "\n",
    "\t\tif max_ending_here < 0:\n",
    "\t\t\tmax_ending_here = 0\n",
    "\treturn max_so_far\n",
    "\n",
    "\n",
    "a = [-2, -3, 4, -1, -2, 1, 5, -3]\n",
    "\n",
    "print (\"Maximum contiguous sum is\", maxSubArraySum(a, len(a)))\n",
    "#time complexity=O(n)\n",
    "#Space complexity=)(1)\n",
    "\n"
   ]
  }
 ],
 "metadata": {
  "kernelspec": {
   "display_name": "Python 3",
   "language": "python",
   "name": "python3"
  },
  "language_info": {
   "codemirror_mode": {
    "name": "ipython",
    "version": 3
   },
   "file_extension": ".py",
   "mimetype": "text/x-python",
   "name": "python",
   "nbconvert_exporter": "python",
   "pygments_lexer": "ipython3",
   "version": "3.11.4"
  }
 },
 "nbformat": 4,
 "nbformat_minor": 2
}
