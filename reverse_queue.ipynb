{
 "cells": [
  {
   "cell_type": "code",
   "execution_count": 1,
   "metadata": {},
   "outputs": [
    {
     "name": "stdout",
     "output_type": "stream",
     "text": [
      "100 90 80 58 92 85 45 30 27 56 \n"
     ]
    }
   ],
   "source": [
    "from queue import Queue\n",
    "\n",
    "def reverse_queue(queue: Queue):\n",
    "\t\n",
    "\tif queue.empty():\n",
    "\t\treturn\n",
    "\t\n",
    "\titem = queue.queue[0]\n",
    "\tqueue.get()\n",
    "\n",
    "\treverse_queue(queue)\n",
    "\n",
    "\tqueue.put(item)\n",
    "\n",
    "\n",
    "def print_queue(queue: Queue):\n",
    "\twhile not queue.empty():\n",
    "\t\tprint(queue.queue[0], end=\" \")\n",
    "\t\tqueue.get()\n",
    "\tprint()\n",
    "\n",
    "if __name__ == \"__main__\":\n",
    "\tq = Queue()\n",
    "\tq.put(56)\n",
    "\tq.put(27)\n",
    "\tq.put(30)\n",
    "\tq.put(45)\n",
    "\tq.put(85)\n",
    "\tq.put(92)\n",
    "\tq.put(58)\n",
    "\tq.put(80)\n",
    "\tq.put(90)\n",
    "\tq.put(100)\n",
    "\n",
    "\treverse_queue(q)\n",
    "\tprint_queue(q)\n",
    "\n",
    "\n",
    "#time complexity=O(n)\n",
    "#space complexity=O(n)"
   ]
  }
 ],
 "metadata": {
  "kernelspec": {
   "display_name": "Python 3",
   "language": "python",
   "name": "python3"
  },
  "language_info": {
   "codemirror_mode": {
    "name": "ipython",
    "version": 3
   },
   "file_extension": ".py",
   "mimetype": "text/x-python",
   "name": "python",
   "nbconvert_exporter": "python",
   "pygments_lexer": "ipython3",
   "version": "3.11.4"
  }
 },
 "nbformat": 4,
 "nbformat_minor": 2
}
