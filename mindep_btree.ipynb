{
 "cells": [
  {
   "cell_type": "code",
   "execution_count": 2,
   "metadata": {},
   "outputs": [
    {
     "name": "stdout",
     "output_type": "stream",
     "text": [
      "2\n"
     ]
    }
   ],
   "source": [
    "class Node:\n",
    "\n",
    "\tdef __init__(self , data):\n",
    "\t\tself.data = data\n",
    "\t\tself.left = None\n",
    "\t\tself.right = None\n",
    "\n",
    "def minDepth(root):\n",
    "\tif root is None:\n",
    "\t\treturn 0\n",
    "\n",
    "\tq = []\n",
    "\t\n",
    "\tq.append({'node': root , 'depth' : 1})\n",
    "\n",
    "\twhile(len(q)>0):\n",
    "\n",
    "\t\tqueueItem = q.pop(0)\n",
    "\t\n",
    "\t\tnode = queueItem['node']\n",
    "\t\tdepth = queueItem['depth']\n",
    "\t\tif node.left is None and node.right is None: \n",
    "\t\t\treturn depth \n",
    "\t\t\n",
    "\t\tif node.left is not None:\n",
    "\t\t\tq.append({'node' : node.left , 'depth' : depth+1})\n",
    "\n",
    "\t\tif node.right is not None: \n",
    "\t\t\tq.append({'node': node.right , 'depth' : depth+1})\n",
    "\n",
    "root = Node(1)\n",
    "root.left = Node(2)\n",
    "root.right = Node(3)\n",
    "root.left.left = Node(4)\n",
    "root.left.right = Node(5)\n",
    "print (minDepth(root))\n",
    "\n",
    "\n",
    "#Time complexity=O(n)\n",
    "#Space complexity=O(n)\n",
    "\n"
   ]
  }
 ],
 "metadata": {
  "kernelspec": {
   "display_name": "Python 3",
   "language": "python",
   "name": "python3"
  },
  "language_info": {
   "codemirror_mode": {
    "name": "ipython",
    "version": 3
   },
   "file_extension": ".py",
   "mimetype": "text/x-python",
   "name": "python",
   "nbconvert_exporter": "python",
   "pygments_lexer": "ipython3",
   "version": "3.11.4"
  }
 },
 "nbformat": 4,
 "nbformat_minor": 2
}
