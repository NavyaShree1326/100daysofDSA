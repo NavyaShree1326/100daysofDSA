{
 "cells": [
  {
   "cell_type": "code",
   "execution_count": null,
   "metadata": {},
   "outputs": [],
   "source": [
    "class Solution:\n",
    "    def decodeString(self, s: str) -> str:\n",
    "\n",
    "        stack=[]\n",
    "\n",
    "        for c in s:\n",
    "            if c!=']':\n",
    "                stack.append(c)\n",
    "            else:\n",
    "                res=''\n",
    "                while stack[-1]!='[':\n",
    "                    res+=stack.pop()\n",
    "                stack.pop()\n",
    "                n=''\n",
    "                while len(stack)!=0 and stack[-1].isdigit()==True:\n",
    "                    n+=stack.pop()\n",
    "                stack.append(res*int(n[::-1]))\n",
    "\n",
    "        return ''.join([word[::-1] for word in stack])\n",
    "#TIme complexity=O(n)\n",
    "#space complexity=O(n)\n",
    "\n",
    "\n",
    "    \n",
    "        "
   ]
  }
 ],
 "metadata": {
  "language_info": {
   "name": "python"
  }
 },
 "nbformat": 4,
 "nbformat_minor": 2
}
