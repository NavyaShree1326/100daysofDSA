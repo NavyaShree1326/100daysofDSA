{
 "cells": [
  {
   "cell_type": "code",
   "execution_count": null,
   "metadata": {},
   "outputs": [],
   "source": [
    "def convert(string):\n",
    "\twhile True:\n",
    "\t\ti = 0\n",
    "\t\twhile i < len(string):\n",
    "\t\t\tif string[i] == ' ':\n",
    "\t\t\t\tstring = string[:i] + string[i+1:].capitalize()\n",
    "\t\t\t\tbreak\n",
    "\t\t\ti += 1\n",
    "\t\tif i == len(string):\n",
    "\t\t\tbreak\n",
    "\treturn string\n",
    "if __name__ == '__main__':\n",
    "\tstring = \"I get intern at geeksforgeeks\"\n",
    "\tprint(convert(string))\n",
    "#Time complexity=O(n*n)\n",
    "#Space complexity=O(1)\n"
   ]
  }
 ],
 "metadata": {
  "language_info": {
   "name": "python"
  }
 },
 "nbformat": 4,
 "nbformat_minor": 2
}
