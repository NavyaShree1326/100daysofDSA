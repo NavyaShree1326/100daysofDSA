{
 "cells": [
  {
   "cell_type": "code",
   "execution_count": 2,
   "metadata": {},
   "outputs": [
    {
     "name": "stdout",
     "output_type": "stream",
     "text": [
      "3 -> 2 -> 1 -> None\n",
      "3 -> 1 -> None\n"
     ]
    }
   ],
   "source": [
    "class Node:\n",
    "    def __init__(self, data):\n",
    "        self.data = data\n",
    "        self.next = None\n",
    "\n",
    "def insert_at_beginning(head, data):\n",
    "    new_node = Node(data)\n",
    "    new_node.next = head\n",
    "    return new_node\n",
    "\n",
    "def delete_node(head, target):\n",
    "    if head is None:\n",
    "        return None\n",
    "\n",
    "    \n",
    "    if head.data == target:\n",
    "        return head.next\n",
    "\n",
    "    current = head\n",
    "    while current.next:\n",
    "        if current.next.data == target:\n",
    "            current.next = current.next.next\n",
    "            return head\n",
    "\n",
    "        current = current.next\n",
    "\n",
    "    return head\n",
    "\n",
    "def display(head):\n",
    "    current = head\n",
    "    while current:\n",
    "        print(current.data, end=\" -> \")\n",
    "        current = current.next\n",
    "    print(\"None\")\n",
    "\n",
    "head = Node(1)\n",
    "head = insert_at_beginning(head, 2)\n",
    "head = insert_at_beginning(head, 3)\n",
    "display(head)  \n",
    "\n",
    "head = delete_node(head, 2)\n",
    "display(head)  "
   ]
  }
 ],
 "metadata": {
  "kernelspec": {
   "display_name": "Python 3",
   "language": "python",
   "name": "python3"
  },
  "language_info": {
   "codemirror_mode": {
    "name": "ipython",
    "version": 3
   },
   "file_extension": ".py",
   "mimetype": "text/x-python",
   "name": "python",
   "nbconvert_exporter": "python",
   "pygments_lexer": "ipython3",
   "version": "3.11.4"
  }
 },
 "nbformat": 4,
 "nbformat_minor": 2
}
