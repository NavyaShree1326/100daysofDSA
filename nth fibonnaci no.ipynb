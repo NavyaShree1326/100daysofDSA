{
 "cells": [
  {
   "cell_type": "code",
   "execution_count": null,
   "metadata": {},
   "outputs": [],
   "source": [
    "def fibonacci(n):\n",
    "\ta = 0\n",
    "\tb = 1\n",
    "\tif n < 0:\n",
    "\t\tprint(\"Incorrect input\")\n",
    "\telif n == 0:\n",
    "\t\treturn a\n",
    "\telif n == 1:\n",
    "\t\treturn b\n",
    "\telse:\n",
    "\t\tfor i in range(2, n+1):\n",
    "\t\t\tc = a + b\n",
    "\t\t\ta = b\n",
    "\t\t\tb = c\n",
    "\t\treturn b\n",
    "\n",
    "\n",
    "print(fibonacci(9))\n",
    "\n",
    "#Time complexity=O(n)\n",
    "#Space complexity=O(1)\n"
   ]
  }
 ],
 "metadata": {
  "language_info": {
   "name": "python"
  }
 },
 "nbformat": 4,
 "nbformat_minor": 2
}
