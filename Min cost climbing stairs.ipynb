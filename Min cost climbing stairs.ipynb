{
 "cells": [
  {
   "cell_type": "code",
   "execution_count": null,
   "metadata": {},
   "outputs": [],
   "source": [
    "from typing import List\n",
    "class Solution:\n",
    "    def minCostClimbingStairs(self, cost: List[int]) -> int:\n",
    "        dp = [cost[0],cost[1]]\n",
    "        for i in range(2,len(cost)):\n",
    "            dp[i%2] = cost[i] + min( dp[0] , dp[1])\n",
    "        return min(dp[0],dp[1])\n",
    "#Time complexity=O(n)\n",
    "#Space complexity=O(1)"
   ]
  }
 ],
 "metadata": {
  "language_info": {
   "name": "python"
  }
 },
 "nbformat": 4,
 "nbformat_minor": 2
}
