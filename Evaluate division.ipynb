{
 "cells": [
  {
   "cell_type": "code",
   "execution_count": 1,
   "metadata": {},
   "outputs": [],
   "source": [
    "from typing import List,defaultdict\n",
    "class Solution:\n",
    "    def calcEquation(self, equations: List[List[str]], values: List[float], queries: List[List[str]]) -> List[float]:\n",
    "        graph = defaultdict(dict)\n",
    "\n",
    "        for (u, v), val in zip(equations, values):\n",
    "            graph[u][u] = graph[v][v] = 1\n",
    "            graph[u][v] = val\n",
    "            graph[v][u] = 1 / val\n",
    "\n",
    "        for k in graph:\n",
    "            for i in graph[k]:\n",
    "                for j in graph[k]:\n",
    "                    graph[i][j] = graph[i][k] * graph[k][j]\n",
    "\n",
    "        return [graph[u].get(v, -1) for u, v in queries]\n",
    "    #Time ccomplexity=O(n^3)\n",
    "    #Space complexity=O(n^2)"
   ]
  }
 ],
 "metadata": {
  "kernelspec": {
   "display_name": "Python 3",
   "language": "python",
   "name": "python3"
  },
  "language_info": {
   "codemirror_mode": {
    "name": "ipython",
    "version": 3
   },
   "file_extension": ".py",
   "mimetype": "text/x-python",
   "name": "python",
   "nbconvert_exporter": "python",
   "pygments_lexer": "ipython3",
   "version": "3.11.4"
  }
 },
 "nbformat": 4,
 "nbformat_minor": 2
}
