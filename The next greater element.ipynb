{
 "cells": [
  {
   "cell_type": "code",
   "execution_count": 1,
   "metadata": {},
   "outputs": [
    {
     "name": "stdout",
     "output_type": "stream",
     "text": [
      "[11, 13, 21, 3]\n"
     ]
    }
   ],
   "source": [
    "def printNGE(arr):\n",
    "\n",
    "\tfor i in range(0, len(arr), 1):\n",
    "\n",
    "\t\tnext = -1\n",
    "\t\tfor j in range(i+1, len(arr), 1):\n",
    "\t\t\tif arr[i] < arr[j]:\n",
    "\t\t\t\tnext = arr[j]\n",
    "\t\t\t\tbreak\n",
    "\n",
    "\t\tprint(str(arr[i]) + \" -- \" + str(next))\n",
    "arr = [11, 13, 21, 3]\n",
    "print(arr)\n",
    "#Time complexity=O(n^2)\n",
    "#Space complexity=O(1)\n",
    "\n"
   ]
  }
 ],
 "metadata": {
  "kernelspec": {
   "display_name": "Python 3",
   "language": "python",
   "name": "python3"
  },
  "language_info": {
   "codemirror_mode": {
    "name": "ipython",
    "version": 3
   },
   "file_extension": ".py",
   "mimetype": "text/x-python",
   "name": "python",
   "nbconvert_exporter": "python",
   "pygments_lexer": "ipython3",
   "version": "3.11.4"
  }
 },
 "nbformat": 4,
 "nbformat_minor": 2
}
