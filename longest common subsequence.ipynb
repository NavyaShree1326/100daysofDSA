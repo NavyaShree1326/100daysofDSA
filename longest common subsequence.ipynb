{
 "cells": [
  {
   "cell_type": "code",
   "execution_count": 1,
   "metadata": {},
   "outputs": [
    {
     "name": "stdout",
     "output_type": "stream",
     "text": [
      "Length of LCS is 4\n"
     ]
    }
   ],
   "source": [
    "\n",
    "def lcs(X, Y, m, n):\n",
    "\tif m == 0 or n == 0:\n",
    "\t\treturn 0\n",
    "\telif X[m-1] == Y[n-1]:\n",
    "\t\treturn 1 + lcs(X, Y, m-1, n-1)\n",
    "\telse:\n",
    "\t\treturn max(lcs(X, Y, m, n-1), lcs(X, Y, m-1, n))\n",
    "\n",
    "if __name__ == '__main__':\n",
    "\tS1 = \"AGGTAB\"\n",
    "\tS2 = \"GXTXAYB\"\n",
    "\tprint(\"Length of LCS is\", lcs(S1, S2, len(S1), len(S2)))\n",
    "#Time complexity=O(2^(m*n))\n",
    "#Space complexity=O(1)\n"
   ]
  }
 ],
 "metadata": {
  "kernelspec": {
   "display_name": "Python 3",
   "language": "python",
   "name": "python3"
  },
  "language_info": {
   "codemirror_mode": {
    "name": "ipython",
    "version": 3
   },
   "file_extension": ".py",
   "mimetype": "text/x-python",
   "name": "python",
   "nbconvert_exporter": "python",
   "pygments_lexer": "ipython3",
   "version": "3.11.4"
  }
 },
 "nbformat": 4,
 "nbformat_minor": 2
}
