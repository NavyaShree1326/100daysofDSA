{
 "cells": [
  {
   "cell_type": "code",
   "execution_count": null,
   "metadata": {},
   "outputs": [],
   "source": [
    "def sortInWave(arr, n):\n",
    "\tfor i in range(0, n - 1, 2):\n",
    "\n",
    "\t\tif (i > 0 and arr[i] < arr[i-1]):\n",
    "\t\t\tarr[i], arr[i-1] = arr[i-1], arr[i]\n",
    "\n",
    "\t\tif (i < n-1 and arr[i] < arr[i+1]):\n",
    "\t\t\tarr[i], arr[i+1] = arr[i+1], arr[i]\n",
    "\n",
    "\n",
    "\n",
    "arr = [10, 90, 49, 2, 1, 5, 23]\n",
    "sortInWave(arr, len(arr))\n",
    "for i in range(0, len(arr)):\n",
    "\tprint(arr[i], end=\" \")\n",
    "#Time complexity=O(N)\n",
    "#Space complexity=O(1)\n"
   ]
  }
 ],
 "metadata": {
  "language_info": {
   "name": "python"
  }
 },
 "nbformat": 4,
 "nbformat_minor": 2
}
