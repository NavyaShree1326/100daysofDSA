{
 "cells": [
  {
   "cell_type": "code",
   "execution_count": 1,
   "metadata": {},
   "outputs": [
    {
     "name": "stdout",
     "output_type": "stream",
     "text": [
      "A: ['B', 'D']\n",
      "B: ['A', 'C']\n",
      "C: ['B', 'D']\n",
      "D: ['C', 'A']\n"
     ]
    }
   ],
   "source": [
    "class Graph:\n",
    "    def __init__(self):\n",
    "        self.graph = {}\n",
    "\n",
    "    def add_vertex(self, vertex):\n",
    "        if vertex not in self.graph:\n",
    "            self.graph[vertex] = []\n",
    "\n",
    "    def add_edge(self, vertex1, vertex2):\n",
    "        if vertex1 in self.graph and vertex2 in self.graph:\n",
    "            self.graph[vertex1].append(vertex2)\n",
    "            self.graph[vertex2].append(vertex1)\n",
    "\n",
    "    def display_graph(self):\n",
    "        for vertex, neighbors in self.graph.items():\n",
    "            print(f\"{vertex}: {neighbors}\")\n",
    "\n",
    "g = Graph()\n",
    "\n",
    "g.add_vertex(\"A\")\n",
    "g.add_vertex(\"B\")\n",
    "g.add_vertex(\"C\")\n",
    "g.add_vertex(\"D\")\n",
    "\n",
    "g.add_edge(\"A\", \"B\")\n",
    "g.add_edge(\"B\", \"C\")\n",
    "g.add_edge(\"C\", \"D\")\n",
    "g.add_edge(\"D\", \"A\")\n",
    "\n",
    "g.display_graph()\n"
   ]
  }
 ],
 "metadata": {
  "kernelspec": {
   "display_name": "Python 3",
   "language": "python",
   "name": "python3"
  },
  "language_info": {
   "codemirror_mode": {
    "name": "ipython",
    "version": 3
   },
   "file_extension": ".py",
   "mimetype": "text/x-python",
   "name": "python",
   "nbconvert_exporter": "python",
   "pygments_lexer": "ipython3",
   "version": "3.11.4"
  }
 },
 "nbformat": 4,
 "nbformat_minor": 2
}
