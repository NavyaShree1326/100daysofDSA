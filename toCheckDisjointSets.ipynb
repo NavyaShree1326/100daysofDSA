{
 "cells": [
  {
   "cell_type": "code",
   "execution_count": null,
   "metadata": {},
   "outputs": [],
   "source": [
    "def areDisjoint(set1, set2, m, n):\n",
    "\tfor i in range(0, m):\n",
    "\t\tfor j in range(0, n):\n",
    "\t\t\tif (set1[i] == set2[j]):\n",
    "\t\t\t\treturn False\n",
    "\treturn True\n",
    "\n",
    "set1 = [12, 34, 11, 9, 3]\n",
    "set2 = [7, 2, 1, 5]\n",
    "m = len(set1)\n",
    "n = len(set2)\n",
    "print(\"yes\") if areDisjoint(set1, set2, m, n) else(\" No\")\n",
    "T#ime Complexity: O(m*n)\n",
    "#Space complexity: O(1)"
   ]
  }
 ],
 "metadata": {
  "language_info": {
   "name": "python"
  }
 },
 "nbformat": 4,
 "nbformat_minor": 2
}
