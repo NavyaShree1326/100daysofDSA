{
 "cells": [
  {
   "cell_type": "code",
   "execution_count": null,
   "metadata": {},
   "outputs": [],
   "source": [
    "class Node: \n",
    "\tdef __init__(self, data): \n",
    "\t\tself.data = data \n",
    "\t\tself.next = None\n",
    "\n",
    "def push(head_ref,data):\n",
    "\n",
    "\tptr1 = Node(0)\n",
    "\ttemp = head_ref\n",
    "\tptr1.data = data\n",
    "\tptr1.next = head_ref\n",
    "\tif (head_ref != None) :\n",
    "\t\twhile (temp.next != head_ref):\n",
    "\t\t\ttemp = temp.next\n",
    "\t\ttemp.next = ptr1\n",
    "\telse:\n",
    "\t\tptr1.next = ptr1 \n",
    "\n",
    "\thead_ref = ptr1\n",
    "\treturn head_ref\n",
    "\n",
    "def countNodes(head):\n",
    "\n",
    "\ttemp = head\n",
    "\tresult = 0\n",
    "\tif (head != None) :\n",
    "\t\twhile True :\n",
    "\t\t\ttemp = temp.next\n",
    "\t\t\tresult = result + 1\n",
    "\t\t\tif (temp == head):\n",
    "\t\t\t\tbreak\n",
    "\t\n",
    "\treturn result\n",
    "\n",
    "if __name__=='__main__': \n",
    "\n",
    "\thead = None\n",
    "\thead = push(head, 12)\n",
    "\thead = push(head, 56)\n",
    "\thead = push(head, 2)\n",
    "\thead = push(head, 11)\n",
    "\n",
    "\tprint( countNodes(head))\n",
    "#Time Complexity: O(n)\n",
    "#Auxiliary Space: O(1)"
   ]
  }
 ],
 "metadata": {
  "language_info": {
   "name": "python"
  }
 },
 "nbformat": 4,
 "nbformat_minor": 2
}
