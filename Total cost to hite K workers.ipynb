{
 "cells": [
  {
   "cell_type": "code",
   "execution_count": null,
   "metadata": {},
   "outputs": [],
   "source": [
    "from collections import deque\n",
    "from heapq import *\n",
    "class Solution:\n",
    "    def totalCost(self, costs: List[int], k: int, candidates: int) -> int:\n",
    "\n",
    "        middle = deque()\n",
    "        left = [float(\"inf\")]\n",
    "        right = [float(\"inf\")]\n",
    "        \n",
    "        for i, cost in enumerate(costs):\n",
    "            if i < candidates: \n",
    "                heappush(left, cost)\n",
    "            elif i >= len(costs) - candidates:\n",
    "                heappush(right, cost)\n",
    "            else:\n",
    "                middle.append(cost)\n",
    "\n",
    "\n",
    "        total_cost = 0\n",
    "        for _ in range(k):\n",
    "            if left[0] <= right[0]:\n",
    "                total_cost += heappop(left)\n",
    "                middle and heappush(left, middle.popleft())\n",
    "            else:\n",
    "                total_cost += heappop(right)\n",
    "                middle and heappush(right, middle.pop())\n",
    "\n",
    "        return total_cost\n",
    "#Time complexity=O(nlogn)\n",
    "#Space complexity=O(n)\n",
    "\n",
    "            \n",
    "\n",
    "            \n",
    "\n"
   ]
  }
 ],
 "metadata": {
  "language_info": {
   "name": "python"
  }
 },
 "nbformat": 4,
 "nbformat_minor": 2
}
