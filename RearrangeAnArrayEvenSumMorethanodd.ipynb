{
 "cells": [
  {
   "cell_type": "code",
   "execution_count": null,
   "metadata": {},
   "outputs": [],
   "source": [
    "def assign(a, n):\n",
    "\ta.sort()\n",
    "\t\n",
    "\tans = [0] * n\n",
    "\tp = 0\n",
    "\tq = n - 1\n",
    "\tfor i in range(n):\n",
    "\t\tif (i + 1) % 2 == 0:\n",
    "\t\t\tans[i] = a[q]\n",
    "\t\t\tq = q - 1\n",
    "\t\telse:\n",
    "\t\t\tans[i] = a[p]\n",
    "\n",
    "\tfor i in range(n):\n",
    "\t\tprint(ans[i], end = \" \")\n",
    "A = [ 1, 3, 2, 2, 5 ]\n",
    "n = len(A)\n",
    "assign(A, n)\n",
    "\n",
    "#Time complexity=O(n*logn)\n",
    "#space Complexity=O(n)\n"
   ]
  }
 ],
 "metadata": {
  "language_info": {
   "name": "python"
  }
 },
 "nbformat": 4,
 "nbformat_minor": 2
}
