{
 "cells": [
  {
   "cell_type": "code",
   "execution_count": null,
   "metadata": {},
   "outputs": [],
   "source": [
    "class Solution:\n",
    "    def removeStars(self, s: str) -> str:\n",
    "        stack = [] \n",
    "        for i in s:\n",
    "        \n",
    "            if len(stack) >0 and i == '*':\n",
    "                stack.pop()\n",
    "            else:\n",
    "                stack.append(i)\n",
    "     \n",
    "        return ''.join(stack)\n",
    "#Time complexity=O(n)\n",
    "#Space complexity=O(n)"
   ]
  }
 ],
 "metadata": {
  "language_info": {
   "name": "python"
  }
 },
 "nbformat": 4,
 "nbformat_minor": 2
}
