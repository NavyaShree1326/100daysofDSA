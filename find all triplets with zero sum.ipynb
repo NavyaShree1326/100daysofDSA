{
 "cells": [
  {
   "cell_type": "code",
   "execution_count": null,
   "metadata": {},
   "outputs": [],
   "source": [
    "def findTriplets(arr, n):\n",
    "\n",
    "\tfound = False\n",
    "\tfor i in range(0, n-2):\n",
    "\n",
    "\t\tfor j in range(i+1, n-1):\n",
    "\n",
    "\t\t\tfor k in range(j+1, n):\n",
    "\n",
    "\t\t\t\tif (arr[i] + arr[j] + arr[k] == 0):\n",
    "\t\t\t\t\tprint(arr[i], arr[j], arr[k])\n",
    "\t\t\t\t\tfound = True\n",
    "\tif (found == False):\n",
    "\t\tprint(\" not exist \")\n",
    "arr = [0, -1, 2, -3, 1]\n",
    "n = len(arr)\n",
    "findTriplets(arr, n)\n",
    "\n",
    "#Time complexity=O(n^3)\n",
    "#SPace complexity=O(1)\n"
   ]
  }
 ],
 "metadata": {
  "language_info": {
   "name": "python"
  }
 },
 "nbformat": 4,
 "nbformat_minor": 2
}
