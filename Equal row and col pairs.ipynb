{
 "cells": [
  {
   "cell_type": "code",
   "execution_count": null,
   "metadata": {},
   "outputs": [],
   "source": [
    "class Solution:\n",
    "    def equalPairs(self, grid: List[List[int]]) -> int:\n",
    "        column_starts_with = grid[0]\n",
    "        columns = [[] for _ in column_starts_with]\n",
    "        \n",
    "        for row in grid:\n",
    "            for j, element in enumerate(row):\n",
    "                columns[j].append(element)\n",
    "        \n",
    "        equal_pairs = 0\n",
    "\n",
    "        for row in grid:\n",
    "            for j, element in enumerate(column_starts_with):\n",
    "                if row[0] == element:\n",
    "                    if row == columns[j]:\n",
    "                        equal_pairs += 1\n",
    "    \n",
    "        return equal_pairs\n",
    "#Time complexity:O(n2)\n",
    "#Space complexity:O(n2)\n"
   ]
  }
 ],
 "metadata": {
  "language_info": {
   "name": "python"
  }
 },
 "nbformat": 4,
 "nbformat_minor": 2
}
