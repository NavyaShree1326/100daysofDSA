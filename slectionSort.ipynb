{
 "cells": [
  {
   "cell_type": "code",
   "execution_count": null,
   "metadata": {},
   "outputs": [],
   "source": [
    "import sys\n",
    "A = [64, 25, 12, 22, 11]\n",
    "for i in range(len(A)):\n",
    "\tmin_idx = i\n",
    "\tfor j in range(i+1, len(A)):\n",
    "\t\tif A[min_idx] > A[j]:\n",
    "\t\t\tmin_idx = j \n",
    "\tA[i], A[min_idx] = A[min_idx], A[i]\n",
    "print (\"Sorted array\")\n",
    "for i in range(len(A)):\n",
    "\tprint(\"%d\" %A[i],end=\" , \") \n",
    "\t\n",
    "#Time complexity=O(n^2)\n",
    "#Spcae complexity=O(1)\n"
   ]
  }
 ],
 "metadata": {
  "language_info": {
   "name": "python"
  }
 },
 "nbformat": 4,
 "nbformat_minor": 2
}
