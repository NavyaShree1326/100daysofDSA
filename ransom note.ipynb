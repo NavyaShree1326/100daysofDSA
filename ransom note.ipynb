{
 "cells": [
  {
   "cell_type": "code",
   "execution_count": null,
   "metadata": {},
   "outputs": [],
   "source": [
    "class Solution(object):\n",
    "    def canConstruct(self, ransomNote, magazine):\n",
    "        \n",
    "        chars = {}\n",
    "        for char in magazine:\n",
    "            if char not in chars: chars[char] = 1\n",
    "            else: chars[char] += 1\n",
    "\n",
    "        for char in ransomNote:\n",
    "            if char in chars and chars[char] > 0: chars[char] -= 1\n",
    "            else: return False\n",
    "        \n",
    "        return True\n",
    "#Time complexity=O(m*n)\n",
    "#Space complexity=O(m)"
   ]
  }
 ],
 "metadata": {
  "language_info": {
   "name": "python"
  }
 },
 "nbformat": 4,
 "nbformat_minor": 2
}
