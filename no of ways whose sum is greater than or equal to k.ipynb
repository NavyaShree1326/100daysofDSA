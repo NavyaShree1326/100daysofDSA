{
 "cells": [
  {
   "cell_type": "code",
   "execution_count": null,
   "metadata": {},
   "outputs": [],
   "source": [
    "from typing import List\n",
    "def cntWays(arr: List[int], K: int) -> int:\n",
    "\tans = 1\n",
    "\tdp = [0] * K\n",
    "\ttotal = 0\n",
    "\tdp[0] = 1\n",
    "\tlessThanK = K - 1\n",
    "\tfor n in arr:\n",
    "\t\tfor i in range(lessThanK - n, -1, -1):\n",
    "\t\t\tdp[i + n] = (dp[i + n] + dp[i])\n",
    "\t\tans = ans * 2\n",
    "\t\ttotal += n\n",
    "\tif total < 2 * K:\n",
    "\t\treturn 0\n",
    "\tsumlessthanK = 0\n",
    "\tfor i in range(lessThanK + 1):\n",
    "\t\tsumlessthanK = (sumlessthanK + dp[i])\n",
    "\tans = (ans - (2 * sumlessthanK))\n",
    "\treturn ans\n",
    "if __name__ == \"__main__\":\n",
    "\n",
    "\tarr = [1, 2, 3, 4]\n",
    "\tK = 4\n",
    "\tprint(cntWays(arr, K))\n",
    "#Time Complexity: O(n*K)\n",
    "#Space complexity: O(sum)"
   ]
  }
 ],
 "metadata": {
  "language_info": {
   "name": "python"
  }
 },
 "nbformat": 4,
 "nbformat_minor": 2
}
